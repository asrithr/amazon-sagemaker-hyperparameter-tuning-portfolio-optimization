{
 "cells": [
  {
   "cell_type": "markdown",
   "metadata": {
    "toc-hr-collapsed": false
   },
   "source": [
    "# Using Amazon SageMaker Automatic Model Tuning to Optimize Portfolio Value\n",
    "### by Scott Gregoire, Ph.D. and Veronika Megler, Ph.D."
   ]
  },
  {
   "cell_type": "markdown",
   "metadata": {},
   "source": [
    "## Table of Contents"
   ]
  },
  {
   "cell_type": "markdown",
   "metadata": {},
   "source": [
    "1. [Introduction](#introduction)\n",
    "1. [Background and Solution Overview](#background)  \n",
    "1. [Training Model](#train)\n",
    "1. [Analyzing Performance (Part 1)](#performance_one)\n",
    "1. [Determining the Optimal Classification Threshold](#hpo)\n",
    "1. [Analyzing Performance (Part 2)](#performance_two)\n",
    "1. [Adjusting the Optimal Threshold Based Upon Additional Business Considerations](#adjustment)\n",
    "1. [Conclusion](#conclusion)"
   ]
  },
  {
   "cell_type": "markdown",
   "metadata": {},
   "source": [
    "## Introduction<a id='introduction'></a>  \n",
    "\n",
    "Financial institutions that extend credit face the dual tasks of evaluating the credit risk associated with each loan application and of determining a threshold that defines the level of risk they are willing to take on. The evaluation of credit risk is a familiar application of Machine Learning (ML) classification models. The determination of a classification threshold, though, is oftentimes treated as a secondary concern and set in an ad-hoc, unprincipled manner. As a result, institutions may be creating underperforming portfolios and leaving risk-adjusted return on the table.\n",
    "\n",
    "In this blog post, we describe how to use Amazon SageMaker automatic model tuning to determine the classification threshold that maximizes the portfolio value of a lender choosing which subset of borrowers to extend credit to. More generally, we describe a method of choosing an optimal threshold, or set of thresholds, in a classification setting. The method we describe doesn't rely on rules of thumb or generic metrics. It is a systematic and principled method that relies on a business success metric specific to the problem at hand. The method is based upon utility theory and the idea that a rational individual makes decision in such way as to maximize her expected utility, or subjective value. \n",
    "\n",
    "In this post, we assume that the lender is attempting to maximize the expected dollar value of her portfolio by choosing a classification threshold that divides loan applications into two groups: those she accepts and lends to, and those she rejects. In other words, the lender is searching over the space of potential threshold values to find the threshold that results in the highest value for the function that describes her portfolio value.\n",
    "\n",
    "This post uses Amazon SageMaker automatic model tuning to find that optimal threshold. The accompanying [Jupyter notebook](https://github.com/aws-samples/amazon-sagemaker-hyperparameter-tuning-portfolio-optimization) demonstrates the code supporting this use case. This is a novel use of the automatic model tuning functionality, which is typically used to choose the hyperparameters that optimize model performance. This post uses it as a general tool to maximize a function over some specific parameter space.\n",
    "\n",
    "This approach has several advantages over the typical threshold determination approach. Typically, a classification threshold is set (or allowed to default) to 0.5, and this threshold doesn't in fact generate the maximum possible result in the majority of use cases. The approach described here chooses a threshold that generates the maximum possible result for the specific business use case being addressed. In the use case in this post, choosing the optimal threshold in the way we describe increases portfolio value by 2.1%.  \n",
    "\n",
    "Also, this approach moves beyond using general rules-of-thumb and expert judgment in determining an optimal threshold. It lays out a structured framework that can be systematically applied to any classification problem. Additionally, this approach requires the business to explicitly state its cost matrix, based on the specific actions to be taken on the predictions and their benefits and costs. This evaluation process moves well beyond simply assessing the classification results of the model. This approach can drive challenging discussions in the business, and force differing implicit decisions and valuations onto the table for open discussion and agreement. This drives the discussion from a simple “maximize this value”, to a more informative analysis that allows more complex economic tradeoffs to be made – providing more value back to the business."
   ]
  },
  {
   "cell_type": "markdown",
   "metadata": {
    "toc-hr-collapsed": true
   },
   "source": [
    "## Background and solution overview<a id='background'></a>"
   ]
  },
  {
   "cell_type": "markdown",
   "metadata": {},
   "source": [
    "Assume that a lender is attempting to construct a portfolio from a pool of potential loans. To tackle this use case, the lender must first assess the credit risk associated with each loan in the pool by calculating a probability of default for each loan; the higher the probability of default associated with a loan, the higher the credit risk associated with a loan. To calculate a loan's probability of default, the lender uses an ML classification model, such as a logistic regression or random forest.\n",
    "\n",
    "Given that the lender has estimated a default probability model, how does she choose the threshold that sets the maximum default probability that a loan can have and she be willing to extend the loan? Users of classification models often set the value of a threshold to the conventional default value of 0.5. Even if they do attempt to set a use case-specific threshold, they do so based upon maximizing some threshold-based metric such as precision or recall. One issue with these metrics is that they ignore certain parts of the discrete outcomes described in the classification matrix. For example, precision overlooks true and false negative outcomes. Additionally, these metrics do not incorporate the dollar costs and benefits associated with each cell of the classification matrix. For example, in the case we examine in this post, the interest rate and loss given a default associated with each loan would be ignored in the calculation of typical threshold-based measures. This situation is less than ideal because, ultimately, what a business values is not the precision or recall of its model, but the dollar value of the incremental profit from using a specific model and threshold.\n",
    "\n",
    "Therefore, instead of using a generic metric, it is likely more profitable and meaningful to the business to design a threshold-based metric that captures the cost and benefit structure of the specific business use case at hand. The lender we describe in this post is deciding whether to lend or not to set of borrowers. Therefore, a metric that incorporates the expected interest earned and losses from each loan given a predicted probability of default is much more relevant to the business and its decision-making process than some generic metric such as precision or recall. Specifically, the portfolio value metric that we define classifies each loan into one of four buckets: True Positive (TP), False Negative (FN), True Negative (TN), and False Positive (FP); and then calculates the value of each bucket of loans using the following guidelines:\n",
    "\n",
    "       TP value = -Fixed_Cost  \n",
    "       FN value = -Fixed_Cost - Loss_Given_Default * Outstanding_Principal_Balance  \n",
    "       TN value = -Fixed_Cost + Interest_Rate * Outstanding_Principal_Balance  \n",
    "       FP value = -Fixed_Cost \n",
    "\n",
    "* Fixed_Cost captures the costs associated with processing a loan whether it is approved or not \n",
    "* Outstanding_Principal_Balance is the principal remaining at the time of default or full repayment\n",
    "* Interest_Rate is a borrower-specific rate that is set based upon the probability of default associated with a specific loan application plus the expected return desired by the lender; \n",
    "* Loss_Given_Default is the proportion of principal expected to be lost if a loan defaults. \n",
    "\n",
    "To calculate the total value of a specific bucket of loans, the value of all loans is summed. This total is what the lender is attempting to maximize by choice of a threshold.\n",
    "\n",
    "Once the lender has clearly defined a quantitative measure of portfolio value, she must then choose the threshold that maximizes that measure. We use Amazon SageMaker automatic model tuning to find the optimal threshold. Amazon SageMaker automatic model tuning is a powerful tool for not only tuning the hyperparameters of an ML model, but also for maximizing an arbitrary function. In this case, we use automatic model tuning in two ways:\n",
    "* Finding the choice of a threshold that maximizes the lender's portfolio value.\n",
    "* Mapping out the relationship between threshold and portfolio value more generally.\n",
    "\n",
    "Understanding the relationship between the threshold choice and portfolio value allows us to more fully understand the economic trade-offs of increasing or decreasing the threshold. This is important as lenders frequently want to consider additional goals beyond simply maximizing the dollar value of their portfolio. Some lenders have idiosyncratic, secondary goals. For example, a lender may want to maximize her portfolio value while also placing emphasis on lending to a certain sector of the economy or to a certain subgroup of the overall population. Knowing how the value of portfolio changes when the threshold moves allows the lender to set a threshold in reasonable manner that addresses both her primary goal of portfolio maximization and her additional secondary goals.\n",
    "\n",
    "We make several assumptions in this work. We assume that the lender has access to the capital necessary to extend all the loans associated with default probabilities below a chosen threshold. The problem is unconstrained in that sense. Additionally we assume that if a loan is approved, the applicant accepts the terms of the loan no matter what interest rate the lender offers. Lastly, we assume that the lender is risk-neutral, that is, we assume that the lender's utility function is the identity function. In other words, the utility that a lender gains from a certain portfolio value is equal to the portfolio value itself."
   ]
  },
  {
   "cell_type": "markdown",
   "metadata": {},
   "source": [
    "Sources:\n",
    "\n",
    "Friedman, Milton, and L. J. Savage. “The Utility Analysis of Choices Involving Risk.” Journal of Political Economy 56, no. 4 (1948): 279–304.\n",
    "\n",
    "<a id='data_source'></a>\n",
    "Data sourced from: \n",
    "Li, Min, Amy Mickel, and Stanley Taylor. “‘Should This Loan Be Approved or Denied?’: A Large Dataset with Class Assignment Guidelines.” Journal of Statistics Education 26, no. 1 (January 2, 2018): 55–66. https://doi.org/10.1080/10691898.2018.1434342.\n",
    "\n",
    "Metz, Charles E. “Basic Principles of ROC Analysis.” Seminars in Nuclear Medicine 8, no. 4 (October 1978): 283–98. https://doi.org/10.1016/S0001-2998(78)80014-2\n",
    "\n",
    "Wu, Yirong, Craig K. Abbey, Xianqiao Chen, Jie Liu, David C. Page, Oguzhan Alagoz, Peggy Peissig, Adedayo A. Onitilo, and Elizabeth S. Burnside. “Developing a Utility Decision Framework to Evaluate Predictive Models in Breast Cancer Risk Estimation.” Journal of Medical Imaging 2, no. 4 (October 2015). https://doi.org/10.1117/1.JMI.2.4.041005.\n",
    "\n",
    "Zadrozny, Bianca, and Charles Elkan. “Learning and Making Decisions When Costs and Probabilities Are Both Unknown,” 204–13. ACM Press, 2001. https://doi.org/10.1145/502512.502540.\n",
    "\n",
    "Veronika Megler and Scott Gregoire. “[Training models with unequal economic error costs using Amazon SageMaker](https://aws.amazon.com/blogs/machine-learning/training-models-with-unequal-economic-error-costs-using-amazon-sagemaker/),“ AWS Machine Learning Blog, 18 Sept 2018. "
   ]
  },
  {
   "cell_type": "markdown",
   "metadata": {},
   "source": [
    "In the remainder of this section, we:\n",
    "* Import library code used in this notebook\n",
    "* Import the data\n",
    "* Pre-process the data\n",
    "* Split it into training and test sets\n",
    "* Save the data to S3\n",
    "\n",
    "In the next sections we use this data to walk through the following steps:\n",
    "\n",
    "1. In [Training Model](#train), we train a Random Forest classifier using the Amazon SageMaker built-in Scikit-learn Estimator, using a default threshold.\n",
    "1. We analyze the performance of the initial model in [Analyzing Performance (Part 1)](#performance_one).\n",
    "1. [Determining the Optimal Classification Threshold](#hpo) walks through using Automatic Model Tuning to find the threshold that gives the highest portfolio value.\n",
    "1. [Analyzing Performance (Part 2)](#performance_two) shows how the new portfolio performance compares to the portfolio that uses the default threshold.\n",
    "1. [Adjusting the Optimal Threshold Based Upon Additional Business Considerations](#adjustment) walks through how additional business goals can be incorporated, while analyzing their impact on the portfolio."
   ]
  },
  {
   "cell_type": "markdown",
   "metadata": {
    "toc-hr-collapsed": true
   },
   "source": [
    "### Importing Libraries<a id='libraries'></a>"
   ]
  },
  {
   "cell_type": "code",
   "execution_count": 1,
   "metadata": {},
   "outputs": [],
   "source": [
    "import pandas as pd\n",
    "import matplotlib.pyplot as plt\n",
    "import numpy as np\n",
    "from sklearn.model_selection import train_test_split\n",
    "from sklearn.preprocessing import StandardScaler\n",
    "from sklearn.metrics import classification_report, log_loss\n",
    "from sklearn.ensemble import RandomForestClassifier as RF\n",
    "from sklearn.externals.joblib import load\n",
    "import sagemaker\n",
    "from sagemaker.sklearn import SKLearn\n",
    "import boto3\n",
    "import os \n",
    "import warnings\n",
    "\n",
    "import helpers"
   ]
  },
  {
   "cell_type": "code",
   "execution_count": 2,
   "metadata": {},
   "outputs": [],
   "source": [
    "warnings.filterwarnings(action='ignore')"
   ]
  },
  {
   "cell_type": "code",
   "execution_count": 3,
   "metadata": {},
   "outputs": [],
   "source": [
    "%matplotlib inline\n",
    "pd.options.display.max_colwidth = -1\n",
    "pd.options.display.max_rows = 200\n",
    "pd.options.display.max_columns = 200\n",
    "pd.options.display.max_info_columns = 200"
   ]
  },
  {
   "cell_type": "code",
   "execution_count": 4,
   "metadata": {},
   "outputs": [],
   "source": [
    "role = sagemaker.get_execution_role()\n",
    "sagemaker_session = sagemaker.Session()"
   ]
  },
  {
   "cell_type": "markdown",
   "metadata": {},
   "source": [
    "A S3 bucket that will contain both the training data and model output is created below. The name of this bucket is a combination of the name of the Docker image created later in this notebook, the region in which this notebook instance is located, and your account number. "
   ]
  },
  {
   "cell_type": "code",
   "execution_count": 5,
   "metadata": {},
   "outputs": [
    {
     "name": "stdout",
     "output_type": "stream",
     "text": [
      "S3 bucket name:  portfolio-value-optimization-blog-post.us-west-2.911148158337\n"
     ]
    }
   ],
   "source": [
    "#This is the name that will be associated with the Docker image created in this notebook.\n",
    "image_name = 'sagemaker-portfolio-value-opt-blog-post'\n",
    "#This is your account number.\n",
    "account_id = boto3.client('sts').get_caller_identity().get('Account')\n",
    "#This is the region in which this notebook instance is located.\n",
    "region = sagemaker_session.boto_region_name\n",
    "\n",
    "bucket = image_name + '.' + region + '.' + account_id\n",
    "\n",
    "print('S3 bucket name: ', bucket)"
   ]
  },
  {
   "cell_type": "markdown",
   "metadata": {},
   "source": [
    "The S3 bucket named above is created if it doesn't exist already. The same is true for local folders that will hold the training and test data used in this post."
   ]
  },
  {
   "cell_type": "code",
   "execution_count": 6,
   "metadata": {},
   "outputs": [],
   "source": [
    "if not boto3.resource('s3').Bucket(bucket).creation_date:\n",
    "    boto3.resource('s3').Bucket(bucket).create(ACL='private', CreateBucketConfiguration={'LocationConstraint':region})\n",
    "\n",
    "model_artifacts_s3_location = 's3://{}/artifacts'.format(bucket)\n",
    "\n",
    "train_data_s3_location = 's3://{}/data/train'.format(bucket)\n",
    "test_data_s3_location = 's3://{}/data/test'.format(bucket)\n",
    "\n",
    "datadir = './data'\n",
    "if not os.path.exists(datadir):\n",
    "    os.mkdir(datadir)\n",
    "\n",
    "traindir = './data/train'\n",
    "if not os.path.exists(traindir):\n",
    "    os.mkdir(traindir)\n",
    "testdir = './data/test'\n",
    "if not os.path.exists(testdir):\n",
    "    os.mkdir(testdir)\n",
    "\n",
    "x_train_local_key = traindir + '/x_train.csv'\n",
    "y_train_local_key = traindir + '/y_train.csv'\n",
    "x_test_local_key = testdir + '/x_test.csv'\n",
    "y_test_local_key = testdir + '/y_test.csv'"
   ]
  },
  {
   "cell_type": "markdown",
   "metadata": {},
   "source": [
    "### Importing the Data<a id='data'></a>"
   ]
  },
  {
   "cell_type": "markdown",
   "metadata": {},
   "source": [
    "In this section, we download the loan data locally to the Amazon SageMaker notebook instance. \n",
    "\n",
    "The data consists of a set of US Small Business Administration (SBA)-guaranteed loans from 1987 to 2014. These are loans extended to US-based small businesses by private banks, though a large percentage of the principal is guaranteed by the US SBA in the event that a borrower defaults. On average, the SBA guarantees about 70% of the principal for each of the loans in this data set. This sizable guarantee offsets much of the credit risk associated with each loan and encourages private banks to extend credit to small business that they might not otherwise extend credit to. For the data itself, and a more detailed description of the data, see the supplementary material of [Li, Mickel, and Taylor](#data_source). You should also read the [license](https://amstat.tandfonline.com/action/showCopyRight?scroll=top&doi=10.1080%2F10691898.2018.1434342#.XUNQjZNKjdQ) associated with the use of this research paper."
   ]
  },
  {
   "cell_type": "code",
   "execution_count": 7,
   "metadata": {},
   "outputs": [],
   "source": [
    "data_address = 'https://amstat.tandfonline.com/doi/suppl/10.1080/10691898.2018.1434342/suppl_file/ujse_a_1434342_sm1547.zip'"
   ]
  },
  {
   "cell_type": "code",
   "execution_count": 8,
   "metadata": {},
   "outputs": [
    {
     "name": "stdout",
     "output_type": "stream",
     "text": [
      "--2019-08-08 19:42:58--  https://amstat.tandfonline.com/doi/suppl/10.1080/10691898.2018.1434342/suppl_file/ujse_a_1434342_sm1547.zip\n",
      "Resolving amstat.tandfonline.com (amstat.tandfonline.com)... 104.17.76.237, 104.17.75.237\n",
      "Connecting to amstat.tandfonline.com (amstat.tandfonline.com)|104.17.76.237|:443... connected.\n",
      "HTTP request sent, awaiting response... 302 Found\n",
      "Location: https://amstat.tandfonline.com/doi/suppl/10.1080/10691898.2018.1434342/suppl_file/ujse_a_1434342_sm1547.zip?cookieSet=1 [following]\n",
      "--2019-08-08 19:42:59--  https://amstat.tandfonline.com/doi/suppl/10.1080/10691898.2018.1434342/suppl_file/ujse_a_1434342_sm1547.zip?cookieSet=1\n",
      "Reusing existing connection to amstat.tandfonline.com:443.\n",
      "HTTP request sent, awaiting response... 302 Found\n",
      "Location: https://amstat.tandfonline.com/doi/suppl/10.1080/10691898.2018.1434342/suppl_file/ujse_a_1434342_sm1547.zip [following]\n",
      "--2019-08-08 19:42:59--  https://amstat.tandfonline.com/doi/suppl/10.1080/10691898.2018.1434342/suppl_file/ujse_a_1434342_sm1547.zip\n",
      "Reusing existing connection to amstat.tandfonline.com:443.\n",
      "HTTP request sent, awaiting response... 200 OK\n",
      "Length: 45160265 (43M) [application/zip]\n",
      "Saving to: ‘ujse_a_1434342_sm1547.zip.1’\n",
      "\n",
      "ujse_a_1434342_sm15 100%[===================>]  43.07M  29.7MB/s    in 1.4s    \n",
      "\n",
      "2019-08-08 19:43:01 (29.7 MB/s) - ‘ujse_a_1434342_sm1547.zip.1’ saved [45160265/45160265]\n",
      "\n"
     ]
    }
   ],
   "source": [
    "!wget $data_address"
   ]
  },
  {
   "cell_type": "markdown",
   "metadata": {},
   "source": [
    "Unzip the data files just downloaded."
   ]
  },
  {
   "cell_type": "code",
   "execution_count": 9,
   "metadata": {},
   "outputs": [],
   "source": [
    "zip_file = !ls *.zip\n",
    "zip_file = zip_file[0]"
   ]
  },
  {
   "cell_type": "code",
   "execution_count": 10,
   "metadata": {},
   "outputs": [
    {
     "name": "stdout",
     "output_type": "stream",
     "text": [
      "Archive:  ujse_a_1434342_sm1547.zip\n",
      "  inflating: JSE #15-091.Loan Documentation_ National SBA.docx  \n",
      "  inflating: JSE #15-091_Loan documentation_SBA Case final.docx  \n",
      "  inflating: SBAcase.11.13.17.csv    \n",
      "  inflating: SBAnational.csv         \n"
     ]
    }
   ],
   "source": [
    "!unzip -o $zip_file"
   ]
  },
  {
   "cell_type": "markdown",
   "metadata": {},
   "source": [
    "Load the full data set located in the SBAnational.csv file."
   ]
  },
  {
   "cell_type": "code",
   "execution_count": 11,
   "metadata": {},
   "outputs": [],
   "source": [
    "data_name = 'SBAnational.csv'"
   ]
  },
  {
   "cell_type": "code",
   "execution_count": 12,
   "metadata": {},
   "outputs": [],
   "source": [
    "data = pd.read_csv(data_name)"
   ]
  },
  {
   "cell_type": "code",
   "execution_count": 13,
   "metadata": {},
   "outputs": [
    {
     "name": "stdout",
     "output_type": "stream",
     "text": [
      "<class 'pandas.core.frame.DataFrame'>\n",
      "RangeIndex: 899164 entries, 0 to 899163\n",
      "Data columns (total 27 columns):\n",
      "LoanNr_ChkDgt        899164 non-null int64\n",
      "Name                 899150 non-null object\n",
      "City                 899134 non-null object\n",
      "State                899150 non-null object\n",
      "Zip                  899164 non-null int64\n",
      "Bank                 897605 non-null object\n",
      "BankState            897598 non-null object\n",
      "NAICS                899164 non-null int64\n",
      "ApprovalDate         899164 non-null object\n",
      "ApprovalFY           899164 non-null object\n",
      "Term                 899164 non-null int64\n",
      "NoEmp                899164 non-null int64\n",
      "NewExist             899028 non-null float64\n",
      "CreateJob            899164 non-null int64\n",
      "RetainedJob          899164 non-null int64\n",
      "FranchiseCode        899164 non-null int64\n",
      "UrbanRural           899164 non-null int64\n",
      "RevLineCr            894636 non-null object\n",
      "LowDoc               896582 non-null object\n",
      "ChgOffDate           162699 non-null object\n",
      "DisbursementDate     896796 non-null object\n",
      "DisbursementGross    899164 non-null object\n",
      "BalanceGross         899164 non-null object\n",
      "MIS_Status           897167 non-null object\n",
      "ChgOffPrinGr         899164 non-null object\n",
      "GrAppv               899164 non-null object\n",
      "SBA_Appv             899164 non-null object\n",
      "dtypes: float64(1), int64(9), object(17)\n",
      "memory usage: 185.2+ MB\n"
     ]
    }
   ],
   "source": [
    "data.info()"
   ]
  },
  {
   "cell_type": "code",
   "execution_count": 14,
   "metadata": {},
   "outputs": [
    {
     "data": {
      "text/html": [
       "<div>\n",
       "<style scoped>\n",
       "    .dataframe tbody tr th:only-of-type {\n",
       "        vertical-align: middle;\n",
       "    }\n",
       "\n",
       "    .dataframe tbody tr th {\n",
       "        vertical-align: top;\n",
       "    }\n",
       "\n",
       "    .dataframe thead th {\n",
       "        text-align: right;\n",
       "    }\n",
       "</style>\n",
       "<table border=\"1\" class=\"dataframe\">\n",
       "  <thead>\n",
       "    <tr style=\"text-align: right;\">\n",
       "      <th></th>\n",
       "      <th>LoanNr_ChkDgt</th>\n",
       "      <th>Name</th>\n",
       "      <th>City</th>\n",
       "      <th>State</th>\n",
       "      <th>Zip</th>\n",
       "      <th>Bank</th>\n",
       "      <th>BankState</th>\n",
       "      <th>NAICS</th>\n",
       "      <th>ApprovalDate</th>\n",
       "      <th>ApprovalFY</th>\n",
       "      <th>Term</th>\n",
       "      <th>NoEmp</th>\n",
       "      <th>NewExist</th>\n",
       "      <th>CreateJob</th>\n",
       "      <th>RetainedJob</th>\n",
       "      <th>FranchiseCode</th>\n",
       "      <th>UrbanRural</th>\n",
       "      <th>RevLineCr</th>\n",
       "      <th>LowDoc</th>\n",
       "      <th>ChgOffDate</th>\n",
       "      <th>DisbursementDate</th>\n",
       "      <th>DisbursementGross</th>\n",
       "      <th>BalanceGross</th>\n",
       "      <th>MIS_Status</th>\n",
       "      <th>ChgOffPrinGr</th>\n",
       "      <th>GrAppv</th>\n",
       "      <th>SBA_Appv</th>\n",
       "    </tr>\n",
       "  </thead>\n",
       "  <tbody>\n",
       "    <tr>\n",
       "      <th>0</th>\n",
       "      <td>1000014003</td>\n",
       "      <td>ABC HOBBYCRAFT</td>\n",
       "      <td>EVANSVILLE</td>\n",
       "      <td>IN</td>\n",
       "      <td>47711</td>\n",
       "      <td>FIFTH THIRD BANK</td>\n",
       "      <td>OH</td>\n",
       "      <td>451120</td>\n",
       "      <td>28-Feb-97</td>\n",
       "      <td>1997</td>\n",
       "      <td>84</td>\n",
       "      <td>4</td>\n",
       "      <td>2.0</td>\n",
       "      <td>0</td>\n",
       "      <td>0</td>\n",
       "      <td>1</td>\n",
       "      <td>0</td>\n",
       "      <td>N</td>\n",
       "      <td>Y</td>\n",
       "      <td>NaN</td>\n",
       "      <td>28-Feb-99</td>\n",
       "      <td>$60,000.00</td>\n",
       "      <td>$0.00</td>\n",
       "      <td>P I F</td>\n",
       "      <td>$0.00</td>\n",
       "      <td>$60,000.00</td>\n",
       "      <td>$48,000.00</td>\n",
       "    </tr>\n",
       "    <tr>\n",
       "      <th>1</th>\n",
       "      <td>1000024006</td>\n",
       "      <td>LANDMARK BAR &amp; GRILLE (THE)</td>\n",
       "      <td>NEW PARIS</td>\n",
       "      <td>IN</td>\n",
       "      <td>46526</td>\n",
       "      <td>1ST SOURCE BANK</td>\n",
       "      <td>IN</td>\n",
       "      <td>722410</td>\n",
       "      <td>28-Feb-97</td>\n",
       "      <td>1997</td>\n",
       "      <td>60</td>\n",
       "      <td>2</td>\n",
       "      <td>2.0</td>\n",
       "      <td>0</td>\n",
       "      <td>0</td>\n",
       "      <td>1</td>\n",
       "      <td>0</td>\n",
       "      <td>N</td>\n",
       "      <td>Y</td>\n",
       "      <td>NaN</td>\n",
       "      <td>31-May-97</td>\n",
       "      <td>$40,000.00</td>\n",
       "      <td>$0.00</td>\n",
       "      <td>P I F</td>\n",
       "      <td>$0.00</td>\n",
       "      <td>$40,000.00</td>\n",
       "      <td>$32,000.00</td>\n",
       "    </tr>\n",
       "    <tr>\n",
       "      <th>2</th>\n",
       "      <td>1000034009</td>\n",
       "      <td>WHITLOCK DDS, TODD M.</td>\n",
       "      <td>BLOOMINGTON</td>\n",
       "      <td>IN</td>\n",
       "      <td>47401</td>\n",
       "      <td>GRANT COUNTY STATE BANK</td>\n",
       "      <td>IN</td>\n",
       "      <td>621210</td>\n",
       "      <td>28-Feb-97</td>\n",
       "      <td>1997</td>\n",
       "      <td>180</td>\n",
       "      <td>7</td>\n",
       "      <td>1.0</td>\n",
       "      <td>0</td>\n",
       "      <td>0</td>\n",
       "      <td>1</td>\n",
       "      <td>0</td>\n",
       "      <td>N</td>\n",
       "      <td>N</td>\n",
       "      <td>NaN</td>\n",
       "      <td>31-Dec-97</td>\n",
       "      <td>$287,000.00</td>\n",
       "      <td>$0.00</td>\n",
       "      <td>P I F</td>\n",
       "      <td>$0.00</td>\n",
       "      <td>$287,000.00</td>\n",
       "      <td>$215,250.00</td>\n",
       "    </tr>\n",
       "    <tr>\n",
       "      <th>3</th>\n",
       "      <td>1000044001</td>\n",
       "      <td>BIG BUCKS PAWN &amp; JEWELRY, LLC</td>\n",
       "      <td>BROKEN ARROW</td>\n",
       "      <td>OK</td>\n",
       "      <td>74012</td>\n",
       "      <td>1ST NATL BK &amp; TR CO OF BROKEN</td>\n",
       "      <td>OK</td>\n",
       "      <td>0</td>\n",
       "      <td>28-Feb-97</td>\n",
       "      <td>1997</td>\n",
       "      <td>60</td>\n",
       "      <td>2</td>\n",
       "      <td>1.0</td>\n",
       "      <td>0</td>\n",
       "      <td>0</td>\n",
       "      <td>1</td>\n",
       "      <td>0</td>\n",
       "      <td>N</td>\n",
       "      <td>Y</td>\n",
       "      <td>NaN</td>\n",
       "      <td>30-Jun-97</td>\n",
       "      <td>$35,000.00</td>\n",
       "      <td>$0.00</td>\n",
       "      <td>P I F</td>\n",
       "      <td>$0.00</td>\n",
       "      <td>$35,000.00</td>\n",
       "      <td>$28,000.00</td>\n",
       "    </tr>\n",
       "    <tr>\n",
       "      <th>4</th>\n",
       "      <td>1000054004</td>\n",
       "      <td>ANASTASIA CONFECTIONS, INC.</td>\n",
       "      <td>ORLANDO</td>\n",
       "      <td>FL</td>\n",
       "      <td>32801</td>\n",
       "      <td>FLORIDA BUS. DEVEL CORP</td>\n",
       "      <td>FL</td>\n",
       "      <td>0</td>\n",
       "      <td>28-Feb-97</td>\n",
       "      <td>1997</td>\n",
       "      <td>240</td>\n",
       "      <td>14</td>\n",
       "      <td>1.0</td>\n",
       "      <td>7</td>\n",
       "      <td>7</td>\n",
       "      <td>1</td>\n",
       "      <td>0</td>\n",
       "      <td>N</td>\n",
       "      <td>N</td>\n",
       "      <td>NaN</td>\n",
       "      <td>14-May-97</td>\n",
       "      <td>$229,000.00</td>\n",
       "      <td>$0.00</td>\n",
       "      <td>P I F</td>\n",
       "      <td>$0.00</td>\n",
       "      <td>$229,000.00</td>\n",
       "      <td>$229,000.00</td>\n",
       "    </tr>\n",
       "  </tbody>\n",
       "</table>\n",
       "</div>"
      ],
      "text/plain": [
       "   LoanNr_ChkDgt                           Name          City State    Zip  \\\n",
       "0  1000014003     ABC HOBBYCRAFT                 EVANSVILLE    IN    47711   \n",
       "1  1000024006     LANDMARK BAR & GRILLE (THE)    NEW PARIS     IN    46526   \n",
       "2  1000034009     WHITLOCK DDS, TODD M.          BLOOMINGTON   IN    47401   \n",
       "3  1000044001     BIG BUCKS PAWN & JEWELRY, LLC  BROKEN ARROW  OK    74012   \n",
       "4  1000054004     ANASTASIA CONFECTIONS, INC.    ORLANDO       FL    32801   \n",
       "\n",
       "                            Bank BankState   NAICS ApprovalDate ApprovalFY  \\\n",
       "0  FIFTH THIRD BANK               OH        451120  28-Feb-97    1997        \n",
       "1  1ST SOURCE BANK                IN        722410  28-Feb-97    1997        \n",
       "2  GRANT COUNTY STATE BANK        IN        621210  28-Feb-97    1997        \n",
       "3  1ST NATL BK & TR CO OF BROKEN  OK        0       28-Feb-97    1997        \n",
       "4  FLORIDA BUS. DEVEL CORP        FL        0       28-Feb-97    1997        \n",
       "\n",
       "   Term  NoEmp  NewExist  CreateJob  RetainedJob  FranchiseCode  UrbanRural  \\\n",
       "0  84    4      2.0       0          0            1              0            \n",
       "1  60    2      2.0       0          0            1              0            \n",
       "2  180   7      1.0       0          0            1              0            \n",
       "3  60    2      1.0       0          0            1              0            \n",
       "4  240   14     1.0       7          7            1              0            \n",
       "\n",
       "  RevLineCr LowDoc ChgOffDate DisbursementDate DisbursementGross BalanceGross  \\\n",
       "0  N         Y      NaN        28-Feb-99        $60,000.00        $0.00         \n",
       "1  N         Y      NaN        31-May-97        $40,000.00        $0.00         \n",
       "2  N         N      NaN        31-Dec-97        $287,000.00       $0.00         \n",
       "3  N         Y      NaN        30-Jun-97        $35,000.00        $0.00         \n",
       "4  N         N      NaN        14-May-97        $229,000.00       $0.00         \n",
       "\n",
       "  MIS_Status ChgOffPrinGr        GrAppv      SBA_Appv  \n",
       "0  P I F      $0.00        $60,000.00    $48,000.00    \n",
       "1  P I F      $0.00        $40,000.00    $32,000.00    \n",
       "2  P I F      $0.00        $287,000.00   $215,250.00   \n",
       "3  P I F      $0.00        $35,000.00    $28,000.00    \n",
       "4  P I F      $0.00        $229,000.00   $229,000.00   "
      ]
     },
     "execution_count": 14,
     "metadata": {},
     "output_type": "execute_result"
    }
   ],
   "source": [
    "data.head()"
   ]
  },
  {
   "cell_type": "markdown",
   "metadata": {},
   "source": [
    "Our goal is to construct a model that predicts the probability that a specific loan will default, thus the target variable is MIS_Status. MIS_Status takes on two values: \"P I F\" if a loan has been paid in full, or \"CHGOFF\" if a loan has defaulted and the bank has taken the resulting loss.\n",
    "\n",
    "As can be seen below, the target variable is imbalanced -- about 18% of the observations have defaulted. Our approach in dealing with this imbalance is to estimate the model with the data as-is, and then set the decision threshold to optimize the economic value of our credit portfolio."
   ]
  },
  {
   "cell_type": "code",
   "execution_count": 15,
   "metadata": {},
   "outputs": [
    {
     "data": {
      "text/plain": [
       "P I F     0.822552\n",
       "CHGOFF    0.175227\n",
       "Name: MIS_Status, dtype: float64"
      ]
     },
     "execution_count": 15,
     "metadata": {},
     "output_type": "execute_result"
    }
   ],
   "source": [
    "data['MIS_Status'].value_counts()/data['MIS_Status'].shape[0]"
   ]
  },
  {
   "cell_type": "markdown",
   "metadata": {
    "toc-hr-collapsed": true
   },
   "source": [
    "### Pre-processing the data<a id='preprocess'></a>"
   ]
  },
  {
   "cell_type": "markdown",
   "metadata": {},
   "source": [
    "Drop columns that are we believe are unlikely to add predictive power to model."
   ]
  },
  {
   "cell_type": "code",
   "execution_count": 16,
   "metadata": {},
   "outputs": [],
   "source": [
    "cols_to_drop = [\n",
    "    'LoanNr_ChkDgt', #Specific to each loan. Likely not useful in generalizing.\n",
    "    'Name', #Specific to each loan. Likely not useful in generalizing.\n",
    "    'City', #Capturing location with State instead of City since City would increase the number of OHE variables by too much.\n",
    "    'Zip', #Capturing location with State instead of Zip since Zip would increase the number of OHE variables by too much.\n",
    "    'Bank', #OHE variables based upon Bank would increase variable count by too much.\n",
    "    'ChgOffDate', #Wouldn't be known at origination.\n",
    "    'ChgOffPrinGr', #Wouldn't be known at origination.\n",
    "    'BalanceGross', #Wouldn't be known at origination (if different from GrAppv).\n",
    "    'DisbursementGross', #Likely wouldn't be known at origination (if different from GrAppv).\n",
    "    'DisbursementDate', #Likely wouldn't be known at origination.\n",
    "    'ApprovalDate', #Assuming date of origination doesn't matter, though may be worth investigating.\n",
    "    'ApprovalFY', #Assuming date of origination doesn't matter, though may be worth investigating.\n",
    "    'FranchiseCode' #Results in too many OHE variables.\n",
    "]"
   ]
  },
  {
   "cell_type": "code",
   "execution_count": 17,
   "metadata": {},
   "outputs": [],
   "source": [
    "data = data.drop(columns=cols_to_drop)"
   ]
  },
  {
   "cell_type": "markdown",
   "metadata": {},
   "source": [
    "Drop all records that are not completely populated."
   ]
  },
  {
   "cell_type": "code",
   "execution_count": 18,
   "metadata": {},
   "outputs": [
    {
     "name": "stdout",
     "output_type": "stream",
     "text": [
      "Number of records dropped:  10743\n"
     ]
    }
   ],
   "source": [
    "print('Number of records dropped: ', data.isnull().any(axis=1).sum())"
   ]
  },
  {
   "cell_type": "code",
   "execution_count": 19,
   "metadata": {},
   "outputs": [],
   "source": [
    "data = data.dropna(axis=0)"
   ]
  },
  {
   "cell_type": "code",
   "execution_count": 20,
   "metadata": {},
   "outputs": [
    {
     "name": "stdout",
     "output_type": "stream",
     "text": [
      "<class 'pandas.core.frame.DataFrame'>\n",
      "Int64Index: 888421 entries, 0 to 899163\n",
      "Data columns (total 14 columns):\n",
      "State          888421 non-null object\n",
      "BankState      888421 non-null object\n",
      "NAICS          888421 non-null int64\n",
      "Term           888421 non-null int64\n",
      "NoEmp          888421 non-null int64\n",
      "NewExist       888421 non-null float64\n",
      "CreateJob      888421 non-null int64\n",
      "RetainedJob    888421 non-null int64\n",
      "UrbanRural     888421 non-null int64\n",
      "RevLineCr      888421 non-null object\n",
      "LowDoc         888421 non-null object\n",
      "MIS_Status     888421 non-null object\n",
      "GrAppv         888421 non-null object\n",
      "SBA_Appv       888421 non-null object\n",
      "dtypes: float64(1), int64(6), object(7)\n",
      "memory usage: 101.7+ MB\n"
     ]
    }
   ],
   "source": [
    "data.info()"
   ]
  },
  {
   "cell_type": "markdown",
   "metadata": {},
   "source": [
    "#### Feature generation\n",
    "\n",
    "Below, we create several features that [Li, Mickel, and Taylor](#data_source) identified as being important predictors of default."
   ]
  },
  {
   "cell_type": "markdown",
   "metadata": {},
   "source": [
    "##### NAICS Classification"
   ]
  },
  {
   "cell_type": "markdown",
   "metadata": {},
   "source": [
    "Classifying each business according to its 2-digit NAICS code."
   ]
  },
  {
   "cell_type": "markdown",
   "metadata": {},
   "source": [
    "NAICS mapping  \n",
    "  \n",
    "21\tMining, quarrying, and oil and gas extraction  \n",
    "11\tAgriculture, forestry, fishing and hunting  \n",
    "55\tManagement of companies and enterprises  \n",
    "62\tHealth care and social assistance  \n",
    "22\tUtilities  \n",
    "92\tPublic administration  \n",
    "54\tProfessional, scientific, and technical services  \n",
    "42\tWholesale trade  \n",
    "31–33\tManufacturing  \n",
    "81\tOther services (except public administration) \n",
    "71\tArts, entertainment, and recreation  \n",
    "72\tAccommodation and food services  \n",
    "44–45\tRetail trade  \n",
    "23\tConstruction  \n",
    "56\tAdministrative/support & waste management/remediation Service  \n",
    "61\tEducational services  \n",
    "51\tInformation  \n",
    "48–49\tTransportation and warehousing  \n",
    "52\tFinance and insurance  \n",
    "53\tReal estate and rental and leasing"
   ]
  },
  {
   "cell_type": "code",
   "execution_count": 21,
   "metadata": {},
   "outputs": [],
   "source": [
    "data['NAICS_abbrev'] = data['NAICS'].astype('str').str[:2]\n",
    "data = data.drop(columns=['NAICS'])"
   ]
  },
  {
   "cell_type": "markdown",
   "metadata": {},
   "source": [
    "##### Backed by Real Estate Collateral?"
   ]
  },
  {
   "cell_type": "markdown",
   "metadata": {},
   "source": [
    "If a loan has a term >= 240 months, then it is required to be backed by Real Estate (see section 4.1.5 of [Li, Mickel, and Taylor](#data_source)). If the term is < 240 months, then the loan is not backed by collateral. We create an indicator that captures this information."
   ]
  },
  {
   "cell_type": "code",
   "execution_count": 22,
   "metadata": {},
   "outputs": [],
   "source": [
    "data['Real_Estate'] = (data['Term'] >= 240) + 0"
   ]
  },
  {
   "cell_type": "markdown",
   "metadata": {},
   "source": [
    "##### Percentage of Principal Guaranteed by SBA"
   ]
  },
  {
   "cell_type": "code",
   "execution_count": 23,
   "metadata": {},
   "outputs": [],
   "source": [
    "data['SBA_Appv'] = data['SBA_Appv'].str.replace('$','').str.replace(',','').astype('float')\n",
    "data['GrAppv'] = data['GrAppv'].str.replace('$','').str.replace(',','').astype('float')\n",
    "data['SBA_Appv_%'] = data['SBA_Appv']/data['GrAppv']"
   ]
  },
  {
   "cell_type": "markdown",
   "metadata": {},
   "source": [
    "#### Data cleaning"
   ]
  },
  {
   "cell_type": "markdown",
   "metadata": {},
   "source": [
    "Several variables take on unexpected values. Below we collapse all unexpected values for a given variable into the '0' category. We also map the target variable to 0/1 to create an integer variable as opposed to a string. Lastly, we create One Hot Encoding variables for all categorical variables."
   ]
  },
  {
   "cell_type": "markdown",
   "metadata": {},
   "source": [
    "##### RevLineCr"
   ]
  },
  {
   "cell_type": "markdown",
   "metadata": {},
   "source": [
    "If RevLineCr not equal to Y or N, then set equal to 0."
   ]
  },
  {
   "cell_type": "code",
   "execution_count": 24,
   "metadata": {},
   "outputs": [
    {
     "data": {
      "text/plain": [
       "N    415876\n",
       "0    257412\n",
       "Y    199881\n",
       "T    15187 \n",
       "1    23    \n",
       "R    14    \n",
       "`    11    \n",
       "2    6     \n",
       "C    2     \n",
       "7    1     \n",
       "-    1     \n",
       "4    1     \n",
       "3    1     \n",
       "Q    1     \n",
       ".    1     \n",
       "A    1     \n",
       "5    1     \n",
       ",    1     \n",
       "Name: RevLineCr, dtype: int64"
      ]
     },
     "execution_count": 24,
     "metadata": {},
     "output_type": "execute_result"
    }
   ],
   "source": [
    "data['RevLineCr'].value_counts()"
   ]
  },
  {
   "cell_type": "code",
   "execution_count": 25,
   "metadata": {},
   "outputs": [],
   "source": [
    "def fix_revcr(x):\n",
    "    \n",
    "    if (x=='N')|(x=='Y'):\n",
    "        x=x\n",
    "    else:\n",
    "        x='0'\n",
    "    \n",
    "    return x"
   ]
  },
  {
   "cell_type": "code",
   "execution_count": 26,
   "metadata": {},
   "outputs": [],
   "source": [
    "data['RevLineCr'] = data['RevLineCr'].map(fix_revcr)"
   ]
  },
  {
   "cell_type": "code",
   "execution_count": 27,
   "metadata": {},
   "outputs": [
    {
     "data": {
      "text/plain": [
       "N    415876\n",
       "0    272664\n",
       "Y    199881\n",
       "Name: RevLineCr, dtype: int64"
      ]
     },
     "execution_count": 27,
     "metadata": {},
     "output_type": "execute_result"
    }
   ],
   "source": [
    "data['RevLineCr'].value_counts()"
   ]
  },
  {
   "cell_type": "markdown",
   "metadata": {},
   "source": [
    "##### LowDoc"
   ]
  },
  {
   "cell_type": "markdown",
   "metadata": {},
   "source": [
    "If LowDoc not equal to Y or N, then set equal to 0."
   ]
  },
  {
   "cell_type": "code",
   "execution_count": 28,
   "metadata": {},
   "outputs": [
    {
     "data": {
      "text/plain": [
       "N    777352\n",
       "Y    107903\n",
       "0    1237  \n",
       "C    757   \n",
       "S    602   \n",
       "A    495   \n",
       "R    74    \n",
       "1    1     \n",
       "Name: LowDoc, dtype: int64"
      ]
     },
     "execution_count": 28,
     "metadata": {},
     "output_type": "execute_result"
    }
   ],
   "source": [
    "data['LowDoc'].value_counts()"
   ]
  },
  {
   "cell_type": "code",
   "execution_count": 29,
   "metadata": {},
   "outputs": [],
   "source": [
    "def fix_lowdoc(x):\n",
    "    \n",
    "    if (x=='N')|(x=='Y'):\n",
    "        x=x\n",
    "    else:\n",
    "        x='0'\n",
    "    \n",
    "    return x"
   ]
  },
  {
   "cell_type": "code",
   "execution_count": 30,
   "metadata": {},
   "outputs": [],
   "source": [
    "data['LowDoc'] = data['LowDoc'].map(fix_lowdoc)"
   ]
  },
  {
   "cell_type": "code",
   "execution_count": 31,
   "metadata": {},
   "outputs": [
    {
     "data": {
      "text/plain": [
       "N    777352\n",
       "Y    107903\n",
       "0    3166  \n",
       "Name: LowDoc, dtype: int64"
      ]
     },
     "execution_count": 31,
     "metadata": {},
     "output_type": "execute_result"
    }
   ],
   "source": [
    "data['LowDoc'].value_counts()"
   ]
  },
  {
   "cell_type": "markdown",
   "metadata": {},
   "source": [
    "##### Mapping Target Variable to Numeric Values"
   ]
  },
  {
   "cell_type": "code",
   "execution_count": 32,
   "metadata": {},
   "outputs": [],
   "source": [
    "data['MIS_Status'] = data['MIS_Status'].map({'P I F': 0, 'CHGOFF': 1})"
   ]
  },
  {
   "cell_type": "code",
   "execution_count": 33,
   "metadata": {},
   "outputs": [
    {
     "data": {
      "text/html": [
       "<div>\n",
       "<style scoped>\n",
       "    .dataframe tbody tr th:only-of-type {\n",
       "        vertical-align: middle;\n",
       "    }\n",
       "\n",
       "    .dataframe tbody tr th {\n",
       "        vertical-align: top;\n",
       "    }\n",
       "\n",
       "    .dataframe thead th {\n",
       "        text-align: right;\n",
       "    }\n",
       "</style>\n",
       "<table border=\"1\" class=\"dataframe\">\n",
       "  <thead>\n",
       "    <tr style=\"text-align: right;\">\n",
       "      <th></th>\n",
       "      <th>State</th>\n",
       "      <th>BankState</th>\n",
       "      <th>Term</th>\n",
       "      <th>NoEmp</th>\n",
       "      <th>NewExist</th>\n",
       "      <th>CreateJob</th>\n",
       "      <th>RetainedJob</th>\n",
       "      <th>UrbanRural</th>\n",
       "      <th>RevLineCr</th>\n",
       "      <th>LowDoc</th>\n",
       "      <th>MIS_Status</th>\n",
       "      <th>GrAppv</th>\n",
       "      <th>SBA_Appv</th>\n",
       "      <th>NAICS_abbrev</th>\n",
       "      <th>Real_Estate</th>\n",
       "      <th>SBA_Appv_%</th>\n",
       "    </tr>\n",
       "  </thead>\n",
       "  <tbody>\n",
       "    <tr>\n",
       "      <th>0</th>\n",
       "      <td>IN</td>\n",
       "      <td>OH</td>\n",
       "      <td>84</td>\n",
       "      <td>4</td>\n",
       "      <td>2.0</td>\n",
       "      <td>0</td>\n",
       "      <td>0</td>\n",
       "      <td>0</td>\n",
       "      <td>N</td>\n",
       "      <td>Y</td>\n",
       "      <td>0</td>\n",
       "      <td>60000.0</td>\n",
       "      <td>48000.0</td>\n",
       "      <td>45</td>\n",
       "      <td>0</td>\n",
       "      <td>0.80</td>\n",
       "    </tr>\n",
       "    <tr>\n",
       "      <th>1</th>\n",
       "      <td>IN</td>\n",
       "      <td>IN</td>\n",
       "      <td>60</td>\n",
       "      <td>2</td>\n",
       "      <td>2.0</td>\n",
       "      <td>0</td>\n",
       "      <td>0</td>\n",
       "      <td>0</td>\n",
       "      <td>N</td>\n",
       "      <td>Y</td>\n",
       "      <td>0</td>\n",
       "      <td>40000.0</td>\n",
       "      <td>32000.0</td>\n",
       "      <td>72</td>\n",
       "      <td>0</td>\n",
       "      <td>0.80</td>\n",
       "    </tr>\n",
       "    <tr>\n",
       "      <th>2</th>\n",
       "      <td>IN</td>\n",
       "      <td>IN</td>\n",
       "      <td>180</td>\n",
       "      <td>7</td>\n",
       "      <td>1.0</td>\n",
       "      <td>0</td>\n",
       "      <td>0</td>\n",
       "      <td>0</td>\n",
       "      <td>N</td>\n",
       "      <td>N</td>\n",
       "      <td>0</td>\n",
       "      <td>287000.0</td>\n",
       "      <td>215250.0</td>\n",
       "      <td>62</td>\n",
       "      <td>0</td>\n",
       "      <td>0.75</td>\n",
       "    </tr>\n",
       "    <tr>\n",
       "      <th>3</th>\n",
       "      <td>OK</td>\n",
       "      <td>OK</td>\n",
       "      <td>60</td>\n",
       "      <td>2</td>\n",
       "      <td>1.0</td>\n",
       "      <td>0</td>\n",
       "      <td>0</td>\n",
       "      <td>0</td>\n",
       "      <td>N</td>\n",
       "      <td>Y</td>\n",
       "      <td>0</td>\n",
       "      <td>35000.0</td>\n",
       "      <td>28000.0</td>\n",
       "      <td>0</td>\n",
       "      <td>0</td>\n",
       "      <td>0.80</td>\n",
       "    </tr>\n",
       "    <tr>\n",
       "      <th>4</th>\n",
       "      <td>FL</td>\n",
       "      <td>FL</td>\n",
       "      <td>240</td>\n",
       "      <td>14</td>\n",
       "      <td>1.0</td>\n",
       "      <td>7</td>\n",
       "      <td>7</td>\n",
       "      <td>0</td>\n",
       "      <td>N</td>\n",
       "      <td>N</td>\n",
       "      <td>0</td>\n",
       "      <td>229000.0</td>\n",
       "      <td>229000.0</td>\n",
       "      <td>0</td>\n",
       "      <td>1</td>\n",
       "      <td>1.00</td>\n",
       "    </tr>\n",
       "  </tbody>\n",
       "</table>\n",
       "</div>"
      ],
      "text/plain": [
       "  State BankState  Term  NoEmp  NewExist  CreateJob  RetainedJob  UrbanRural  \\\n",
       "0  IN    OH        84    4      2.0       0          0            0            \n",
       "1  IN    IN        60    2      2.0       0          0            0            \n",
       "2  IN    IN        180   7      1.0       0          0            0            \n",
       "3  OK    OK        60    2      1.0       0          0            0            \n",
       "4  FL    FL        240   14     1.0       7          7            0            \n",
       "\n",
       "  RevLineCr LowDoc  MIS_Status    GrAppv  SBA_Appv NAICS_abbrev  Real_Estate  \\\n",
       "0  N         Y      0           60000.0   48000.0   45           0             \n",
       "1  N         Y      0           40000.0   32000.0   72           0             \n",
       "2  N         N      0           287000.0  215250.0  62           0             \n",
       "3  N         Y      0           35000.0   28000.0   0            0             \n",
       "4  N         N      0           229000.0  229000.0  0            1             \n",
       "\n",
       "   SBA_Appv_%  \n",
       "0  0.80        \n",
       "1  0.80        \n",
       "2  0.75        \n",
       "3  0.80        \n",
       "4  1.00        "
      ]
     },
     "execution_count": 33,
     "metadata": {},
     "output_type": "execute_result"
    }
   ],
   "source": [
    "data.head()"
   ]
  },
  {
   "cell_type": "markdown",
   "metadata": {},
   "source": [
    "##### Creating One Hot Encoding indicators for all relevant variables"
   ]
  },
  {
   "cell_type": "code",
   "execution_count": 34,
   "metadata": {},
   "outputs": [],
   "source": [
    "y = data.pop('MIS_Status')"
   ]
  },
  {
   "cell_type": "code",
   "execution_count": 35,
   "metadata": {},
   "outputs": [],
   "source": [
    "x = pd.get_dummies(data, columns= ['State', \n",
    "                                    'BankState', \n",
    "                                    'NewExist',  \n",
    "                                    'UrbanRural', \n",
    "                                    'RevLineCr', \n",
    "                                    'LowDoc',\n",
    "                                    'NAICS_abbrev', \n",
    "                                    'Real_Estate'])"
   ]
  },
  {
   "cell_type": "code",
   "execution_count": 36,
   "metadata": {},
   "outputs": [
    {
     "name": "stdout",
     "output_type": "stream",
     "text": [
      "<class 'pandas.core.frame.DataFrame'>\n",
      "Int64Index: 888421 entries, 0 to 899163\n",
      "Columns: 153 entries, Term to Real_Estate_1\n",
      "dtypes: float64(3), int64(4), uint8(146)\n",
      "memory usage: 177.9 MB\n"
     ]
    }
   ],
   "source": [
    "x.info(verbose=False)"
   ]
  },
  {
   "cell_type": "markdown",
   "metadata": {},
   "source": [
    "### Splitting data into training and test sets"
   ]
  },
  {
   "cell_type": "code",
   "execution_count": 37,
   "metadata": {},
   "outputs": [],
   "source": [
    "x_train, x_test, y_train, y_test = train_test_split(x, y, test_size=0.1, random_state=1)"
   ]
  },
  {
   "cell_type": "markdown",
   "metadata": {},
   "source": [
    "### Saving data to S3"
   ]
  },
  {
   "cell_type": "markdown",
   "metadata": {},
   "source": [
    "First, save pre-processed training and test sets locally"
   ]
  },
  {
   "cell_type": "code",
   "execution_count": 38,
   "metadata": {},
   "outputs": [],
   "source": [
    "x_train.to_csv(x_train_local_key, header=True, index=False)\n",
    "y_train.to_csv(y_train_local_key, header=True, index=False)\n",
    "x_test.to_csv(x_test_local_key, header=True, index=False)\n",
    "y_test.to_csv(y_test_local_key, header=True, index=False)"
   ]
  },
  {
   "cell_type": "markdown",
   "metadata": {},
   "source": [
    "Then upload the processed data to S3 "
   ]
  },
  {
   "cell_type": "code",
   "execution_count": 39,
   "metadata": {},
   "outputs": [],
   "source": [
    "train_full_upload = sagemaker_session.upload_data(path='data/train', bucket=bucket, key_prefix='data/train')\n",
    "test_full_upload = sagemaker_session.upload_data(path='data/test', bucket=bucket, key_prefix='data/test')"
   ]
  },
  {
   "cell_type": "markdown",
   "metadata": {},
   "source": [
    "## Training the model<a id='train'></a>"
   ]
  },
  {
   "cell_type": "markdown",
   "metadata": {},
   "source": [
    "Now we train a random forest classifier using the Amazon SageMaker built-in Scikit-learn Estimator. We chose a random forest after comparing its performance to both that of a Logistic Regression and a Gradient Boosted Classifier. The Amazon SageMaker built-in estimator allows users to build and deploy custom Scikit-learn models without needing to create and manage a custom Docker container. For more information on how implement models using the built-in Scikit-learn Estimator, see [the Amazon SageMaker Python SDK documentation](https://sagemaker.readthedocs.io/en/stable/using_sklearn.html).\n",
    "\n",
    "The file estimate_model.py contains the Scikit-Learn model that we train to predict a loan's probability of default. Training this model takes about 10 minutes."
   ]
  },
  {
   "cell_type": "code",
   "execution_count": 38,
   "metadata": {
    "scrolled": true
   },
   "outputs": [
    {
     "name": "stdout",
     "output_type": "stream",
     "text": [
      "2019-08-08 19:44:27 Starting - Starting the training job...\n",
      "2019-08-08 19:44:29 Starting - Launching requested ML instances......\n",
      "2019-08-08 19:45:37 Starting - Preparing the instances for training...\n",
      "2019-08-08 19:46:22 Downloading - Downloading input data...\n",
      "2019-08-08 19:46:49 Training - Training image download completed. Training in progress..\n",
      "\u001b[31m2019-08-08 19:46:49,940 sagemaker-containers INFO     Imported framework sagemaker_sklearn_container.training\u001b[0m\n",
      "\u001b[31m2019-08-08 19:46:49,942 sagemaker-containers INFO     No GPUs detected (normal if no gpus installed)\u001b[0m\n",
      "\u001b[31m2019-08-08 19:46:49,952 sagemaker_sklearn_container.training INFO     Invoking user training script.\u001b[0m\n",
      "\u001b[31m2019-08-08 19:46:50,151 sagemaker-containers INFO     Module estimate_model does not provide a setup.py. \u001b[0m\n",
      "\u001b[31mGenerating setup.py\u001b[0m\n",
      "\u001b[31m2019-08-08 19:46:50,151 sagemaker-containers INFO     Generating setup.cfg\u001b[0m\n",
      "\u001b[31m2019-08-08 19:46:50,151 sagemaker-containers INFO     Generating MANIFEST.in\u001b[0m\n",
      "\u001b[31m2019-08-08 19:46:50,151 sagemaker-containers INFO     Installing module with the following command:\u001b[0m\n",
      "\u001b[31m/usr/bin/python3 -m pip install -U . \u001b[0m\n",
      "\u001b[31mProcessing /opt/ml/code\u001b[0m\n",
      "\u001b[31mBuilding wheels for collected packages: estimate-model\n",
      "  Building wheel for estimate-model (setup.py): started\n",
      "  Building wheel for estimate-model (setup.py): finished with status 'done'\n",
      "  Stored in directory: /tmp/pip-ephem-wheel-cache-wu9j02bl/wheels/35/24/16/37574d11bf9bde50616c67372a334f94fa8356bc7164af8ca3\u001b[0m\n",
      "\u001b[31mSuccessfully built estimate-model\u001b[0m\n",
      "\u001b[31mInstalling collected packages: estimate-model\u001b[0m\n",
      "\u001b[31mSuccessfully installed estimate-model-1.0.0\u001b[0m\n",
      "\u001b[31mWARNING: You are using pip version 19.1.1, however version 19.2.1 is available.\u001b[0m\n",
      "\u001b[31mYou should consider upgrading via the 'pip install --upgrade pip' command.\u001b[0m\n",
      "\u001b[31m2019-08-08 19:46:51,279 sagemaker-containers INFO     No GPUs detected (normal if no gpus installed)\u001b[0m\n",
      "\u001b[31m2019-08-08 19:46:51,289 sagemaker-containers INFO     Invoking user script\n",
      "\u001b[0m\n",
      "\u001b[31mTraining Env:\n",
      "\u001b[0m\n",
      "\u001b[31m{\n",
      "    \"framework_module\": \"sagemaker_sklearn_container.training:main\",\n",
      "    \"output_intermediate_dir\": \"/opt/ml/output/intermediate\",\n",
      "    \"hyperparameters\": {},\n",
      "    \"output_data_dir\": \"/opt/ml/output/data\",\n",
      "    \"resource_config\": {\n",
      "        \"network_interface_name\": \"eth0\",\n",
      "        \"hosts\": [\n",
      "            \"algo-1\"\n",
      "        ],\n",
      "        \"current_host\": \"algo-1\"\n",
      "    },\n",
      "    \"channel_input_dirs\": {\n",
      "        \"test\": \"/opt/ml/input/data/test\",\n",
      "        \"train\": \"/opt/ml/input/data/train\"\n",
      "    },\n",
      "    \"master_hostname\": \"algo-1\",\n",
      "    \"is_master\": true,\n",
      "    \"network_interface_name\": \"eth0\",\n",
      "    \"input_dir\": \"/opt/ml/input\",\n",
      "    \"input_data_config\": {\n",
      "        \"test\": {\n",
      "            \"RecordWrapperType\": \"None\",\n",
      "            \"TrainingInputMode\": \"File\",\n",
      "            \"S3DistributionType\": \"FullyReplicated\"\n",
      "        },\n",
      "        \"train\": {\n",
      "            \"RecordWrapperType\": \"None\",\n",
      "            \"TrainingInputMode\": \"File\",\n",
      "            \"S3DistributionType\": \"FullyReplicated\"\n",
      "        }\n",
      "    },\n",
      "    \"module_dir\": \"s3://portfolio-value-optimization-blog-post.us-west-2.911148158337/sagemaker-scikit-learn-2019-08-08-19-44-26-895/source/sourcedir.tar.gz\",\n",
      "    \"user_entry_point\": \"estimate_model.py\",\n",
      "    \"current_host\": \"algo-1\",\n",
      "    \"model_dir\": \"/opt/ml/model\",\n",
      "    \"additional_framework_parameters\": {},\n",
      "    \"num_cpus\": 8,\n",
      "    \"input_config_dir\": \"/opt/ml/input/config\",\n",
      "    \"job_name\": \"sagemaker-scikit-learn-2019-08-08-19-44-26-895\",\n",
      "    \"hosts\": [\n",
      "        \"algo-1\"\n",
      "    ],\n",
      "    \"module_name\": \"estimate_model\",\n",
      "    \"log_level\": 20,\n",
      "    \"output_dir\": \"/opt/ml/output\",\n",
      "    \"num_gpus\": 0\u001b[0m\n",
      "\u001b[31m}\n",
      "\u001b[0m\n",
      "\u001b[31mEnvironment variables:\n",
      "\u001b[0m\n",
      "\u001b[31mSM_INPUT_CONFIG_DIR=/opt/ml/input/config\u001b[0m\n",
      "\u001b[31mSM_USER_ARGS=[]\u001b[0m\n",
      "\u001b[31mSM_HOSTS=[\"algo-1\"]\u001b[0m\n",
      "\u001b[31mSM_TRAINING_ENV={\"additional_framework_parameters\":{},\"channel_input_dirs\":{\"test\":\"/opt/ml/input/data/test\",\"train\":\"/opt/ml/input/data/train\"},\"current_host\":\"algo-1\",\"framework_module\":\"sagemaker_sklearn_container.training:main\",\"hosts\":[\"algo-1\"],\"hyperparameters\":{},\"input_config_dir\":\"/opt/ml/input/config\",\"input_data_config\":{\"test\":{\"RecordWrapperType\":\"None\",\"S3DistributionType\":\"FullyReplicated\",\"TrainingInputMode\":\"File\"},\"train\":{\"RecordWrapperType\":\"None\",\"S3DistributionType\":\"FullyReplicated\",\"TrainingInputMode\":\"File\"}},\"input_dir\":\"/opt/ml/input\",\"is_master\":true,\"job_name\":\"sagemaker-scikit-learn-2019-08-08-19-44-26-895\",\"log_level\":20,\"master_hostname\":\"algo-1\",\"model_dir\":\"/opt/ml/model\",\"module_dir\":\"s3://portfolio-value-optimization-blog-post.us-west-2.911148158337/sagemaker-scikit-learn-2019-08-08-19-44-26-895/source/sourcedir.tar.gz\",\"module_name\":\"estimate_model\",\"network_interface_name\":\"eth0\",\"num_cpus\":8,\"num_gpus\":0,\"output_data_dir\":\"/opt/ml/output/data\",\"output_dir\":\"/opt/ml/output\",\"output_intermediate_dir\":\"/opt/ml/output/intermediate\",\"resource_config\":{\"current_host\":\"algo-1\",\"hosts\":[\"algo-1\"],\"network_interface_name\":\"eth0\"},\"user_entry_point\":\"estimate_model.py\"}\u001b[0m\n",
      "\u001b[31mSM_INPUT_DIR=/opt/ml/input\u001b[0m\n",
      "\u001b[31mSM_MODULE_DIR=s3://portfolio-value-optimization-blog-post.us-west-2.911148158337/sagemaker-scikit-learn-2019-08-08-19-44-26-895/source/sourcedir.tar.gz\u001b[0m\n",
      "\u001b[31mSM_CURRENT_HOST=algo-1\u001b[0m\n",
      "\u001b[31mSM_OUTPUT_INTERMEDIATE_DIR=/opt/ml/output/intermediate\u001b[0m\n",
      "\u001b[31mSM_OUTPUT_DIR=/opt/ml/output\u001b[0m\n",
      "\u001b[31mSM_LOG_LEVEL=20\u001b[0m\n",
      "\u001b[31mSM_NETWORK_INTERFACE_NAME=eth0\u001b[0m\n",
      "\u001b[31mSM_MODEL_DIR=/opt/ml/model\u001b[0m\n",
      "\u001b[31mPYTHONPATH=/usr/local/bin:/usr/lib/python35.zip:/usr/lib/python3.5:/usr/lib/python3.5/plat-x86_64-linux-gnu:/usr/lib/python3.5/lib-dynload:/usr/local/lib/python3.5/dist-packages:/usr/lib/python3/dist-packages\u001b[0m\n",
      "\u001b[31mSM_RESOURCE_CONFIG={\"current_host\":\"algo-1\",\"hosts\":[\"algo-1\"],\"network_interface_name\":\"eth0\"}\u001b[0m\n",
      "\u001b[31mSM_CHANNEL_TEST=/opt/ml/input/data/test\u001b[0m\n",
      "\u001b[31mSM_CHANNEL_TRAIN=/opt/ml/input/data/train\u001b[0m\n",
      "\u001b[31mSM_MODULE_NAME=estimate_model\u001b[0m\n",
      "\u001b[31mSM_HPS={}\u001b[0m\n",
      "\u001b[31mSM_USER_ENTRY_POINT=estimate_model.py\u001b[0m\n",
      "\u001b[31mSM_NUM_GPUS=0\u001b[0m\n",
      "\u001b[31mSM_OUTPUT_DATA_DIR=/opt/ml/output/data\u001b[0m\n",
      "\u001b[31mSM_CHANNELS=[\"test\",\"train\"]\u001b[0m\n",
      "\u001b[31mSM_NUM_CPUS=8\u001b[0m\n",
      "\u001b[31mSM_INPUT_DATA_CONFIG={\"test\":{\"RecordWrapperType\":\"None\",\"S3DistributionType\":\"FullyReplicated\",\"TrainingInputMode\":\"File\"},\"train\":{\"RecordWrapperType\":\"None\",\"S3DistributionType\":\"FullyReplicated\",\"TrainingInputMode\":\"File\"}}\u001b[0m\n",
      "\u001b[31mSM_FRAMEWORK_PARAMS={}\u001b[0m\n",
      "\u001b[31mSM_FRAMEWORK_MODULE=sagemaker_sklearn_container.training:main\n",
      "\u001b[0m\n",
      "\u001b[31mInvoking script with the following command:\n",
      "\u001b[0m\n",
      "\u001b[31m/usr/bin/python3 -m estimate_model\n",
      "\n",
      "\u001b[0m\n",
      "\u001b[31mload training data.\u001b[0m\n",
      "\u001b[31mscale training data.\u001b[0m\n",
      "\u001b[31m/usr/local/lib/python3.5/dist-packages/sklearn/preprocessing/data.py:617: DataConversionWarning: Data with input dtype int64, float64 were all converted to float64 by StandardScaler.\n",
      "  return self.partial_fit(X, y)\u001b[0m\n",
      "\u001b[31m/opt/ml/code/estimate_model.py:18: DataConversionWarning: Data with input dtype int64, float64 were all converted to float64 by StandardScaler.\n",
      "  x_train_scld = scaler.transform(x_train)\u001b[0m\n",
      "\u001b[31mestimate model\u001b[0m\n",
      "\u001b[31mpersist model\u001b[0m\n",
      "\u001b[31mload testing data.\u001b[0m\n",
      "\u001b[31m/opt/ml/code/estimate_model.py:31: DataConversionWarning: Data with input dtype int64, float64 were all converted to float64 by StandardScaler.\n",
      "  x_test_scld = scaler.transform(x_test)\u001b[0m\n",
      "\u001b[31mcalculate metrics\u001b[0m\n",
      "\u001b[31maccuracy:  0.935931924856207\u001b[0m\n",
      "\u001b[31mauc:  0.9611527397472974\u001b[0m\n",
      "\u001b[31m2019-08-08 19:53:09,255 sagemaker-containers INFO     Reporting training SUCCESS\u001b[0m\n",
      "\n",
      "2019-08-08 19:53:12 Uploading - Uploading generated training model\n",
      "2019-08-08 19:54:38 Completed - Training job completed\n",
      "Billable seconds: 496\n"
     ]
    }
   ],
   "source": [
    "sklearn_script_path = 'estimate_model.py'\n",
    "\n",
    "model = SKLearn(entry_point=sklearn_script_path,\n",
    "                role=role,\n",
    "                py_version='py3',\n",
    "                framework_version='0.20.0',\n",
    "                train_instance_count=1,\n",
    "                train_instance_type='ml.c5.2xlarge',\n",
    "                output_path=model_artifacts_s3_location,\n",
    "                sagemaker_session=sagemaker_session)\n",
    "\n",
    "model.fit({\n",
    "    'train': train_data_s3_location,\n",
    "    'test': test_data_s3_location\n",
    "})"
   ]
  },
  {
   "cell_type": "markdown",
   "metadata": {
    "toc-hr-collapsed": true
   },
   "source": [
    "## Analyzing model performance (Part 1)<a id='performance_one'></a>\n",
    "\n",
    "For comparison, we create a naïve model, classifying all observations to the majority class, that is, predicting that no loans will default. Does the random forest perform better than the naive model?\n",
    "\n",
    "We have not yet determined the optimal threshold to classify the prediction of the random forest model into default or non-default classes. Therefore, the only performance metrics available to us to answer the above question are those based upon the predicted class probabilities output by our model. Metrics based on class predictions, for example, accuracy, precision or recall, are dependent on our as-yet-undefined threshold. So to answer this question initially, we compare the log loss of the random forecast and naive models. Log loss calculates how far predicted class probabilities are off from the true labels. Therefore, log loss is metric that can be determined without reference to a threshold.\n",
    "\n",
    "We will more thoroughly analyze model performance, using the more familiar threshold-based metrics, after we have calculated the optimal threshold."
   ]
  },
  {
   "cell_type": "markdown",
   "metadata": {},
   "source": [
    "### Loading model"
   ]
  },
  {
   "cell_type": "markdown",
   "metadata": {},
   "source": [
    "In order to examine predictions made by the Random Forest that trained above, we load the model artifact that Amazon SageMaker saves to S3."
   ]
  },
  {
   "cell_type": "code",
   "execution_count": 54,
   "metadata": {},
   "outputs": [],
   "source": [
    "model_pickle_key = 'artifacts/{}/output/model.tar.gz'.format(model.hyperparameters()['sagemaker_job_name'].replace('\"',''))"
   ]
  },
  {
   "cell_type": "code",
   "execution_count": 55,
   "metadata": {},
   "outputs": [],
   "source": [
    "s3 = boto3.resource('s3')    \n",
    "s3.Bucket(bucket).download_file(model_pickle_key, 'model.tar.gz')\n",
    "os.system('tar -xzvf model.tar.gz')\n",
    "loaded_model = load('random_forest_classifier.pkl')"
   ]
  },
  {
   "cell_type": "markdown",
   "metadata": {},
   "source": [
    "### Generating model predictions"
   ]
  },
  {
   "cell_type": "code",
   "execution_count": 56,
   "metadata": {},
   "outputs": [],
   "source": [
    "scaler = StandardScaler().fit(x_train)\n",
    "x_test_scld = scaler.transform(x_test)"
   ]
  },
  {
   "cell_type": "markdown",
   "metadata": {},
   "source": [
    "Class probability predictions for the Naive model are:"
   ]
  },
  {
   "cell_type": "code",
   "execution_count": 57,
   "metadata": {},
   "outputs": [],
   "source": [
    "naive_pred = pd.Series(data=[0]*len(y_test), dtype=np.int8)"
   ]
  },
  {
   "cell_type": "markdown",
   "metadata": {},
   "source": [
    "Class probability predictions for the Random Forest model are:"
   ]
  },
  {
   "cell_type": "code",
   "execution_count": 58,
   "metadata": {},
   "outputs": [],
   "source": [
    "random_forest_pred = loaded_model.predict_proba(x_test_scld)\n",
    "random_forest_pred = random_forest_pred[:,1] #save only default class predictions"
   ]
  },
  {
   "cell_type": "markdown",
   "metadata": {},
   "source": [
    "### Calculating log loss"
   ]
  },
  {
   "cell_type": "markdown",
   "metadata": {},
   "source": [
    "Does the random forest perform better than the naive model? "
   ]
  },
  {
   "cell_type": "code",
   "execution_count": 59,
   "metadata": {},
   "outputs": [],
   "source": [
    "naive_logloss = log_loss(y_test, naive_pred)\n",
    "random_forest_logloss = log_loss(y_test, random_forest_pred)"
   ]
  },
  {
   "cell_type": "markdown",
   "metadata": {},
   "source": [
    "Remember that a smaller log loss indicates a smaller error and better performance. The following output from the model runs shows the results:"
   ]
  },
  {
   "cell_type": "code",
   "execution_count": 60,
   "metadata": {},
   "outputs": [
    {
     "name": "stdout",
     "output_type": "stream",
     "text": [
      "Naive Log Loss: 6.1230\n",
      "Random Forest Log Loss: 0.2039\n"
     ]
    }
   ],
   "source": [
    "print('Naive Log Loss: {:0,.4f}'.format(naive_logloss))\n",
    "print('Random Forest Log Loss: {:0,.4f}'.format(random_forest_logloss))"
   ]
  },
  {
   "cell_type": "markdown",
   "metadata": {},
   "source": [
    "The answer is yes, the random forest improves on the log loss of the naive model by a significant amount. This implies that the random forest model assigned predicted class probabilities to each observation that are much closer to the truth than the naive model’s predictions."
   ]
  },
  {
   "cell_type": "markdown",
   "metadata": {},
   "source": [
    "### Plotting the model predictions"
   ]
  },
  {
   "cell_type": "markdown",
   "metadata": {},
   "source": [
    "In each of the following plot sets, the top histogram plots the distribution of predicted scores for all actual negatives, that is, the predicted scores for borrowers that do not default. In essence, it represents the score distributions associated with specificity. The bottom histogram plots predicted scores for actual positives, that is, the predicted scores for borrowers that do default, thus representing the score distributions for sensitivity.\n",
    "\n",
    "The correctly classified observations on each plot are colored blue, and the incorrectly classified observations are colored orange. We use the default threshold value of 0.5 to color these plots. This is the typical threshold used to classify the results of a classification model, chosen without attempting to maximize the user's success—or value—metric.\n",
    "\n",
    "The threshold choice does not affect the actual predicted scores, shape, or level of the plots, only the coloring. It does, however, effect metric results, including sensitivity, specificity, and most commonly used model performance metrics."
   ]
  },
  {
   "cell_type": "code",
   "execution_count": 61,
   "metadata": {},
   "outputs": [
    {
     "data": {
      "image/png": "[encoded data removed]",
      "text/plain": [
       "<Figure size 720x576 with 2 Axes>"
      ]
     },
     "metadata": {},
     "output_type": "display_data"
    }
   ],
   "source": [
    "random_forest_positives = random_forest_pred[y_test==1]\n",
    "random_forest_negatives = random_forest_pred[y_test==0]\n",
    "\n",
    "helpers.custom_pred_distro(positives=random_forest_positives, negatives=random_forest_negatives, cutoff=0.5, title=None)"
   ]
  },
  {
   "cell_type": "markdown",
   "metadata": {},
   "source": [
    "These two graph shows that while the scores for the true negatives are clustered close to 0, the scores for the false negatives are distributed relatively evenly from 0 to the current cutoff at 0.5. The dataset doesn’t include data items that would allow strong discrimination between true and false negatives.\n",
    "\n",
    "This distribution may point to a significant amount of potential income being missed from this portfolio of approved and rejected loans. Using the default threshold score of 0.5 for approving a loan is not optimal for this dataset. Let's explore how the portfolio value can be further increased by optimizing the threshold."
   ]
  },
  {
   "cell_type": "markdown",
   "metadata": {},
   "source": [
    "### Calculating portfolio value based upon a 0.5 threshold"
   ]
  },
  {
   "cell_type": "markdown",
   "metadata": {},
   "source": [
    "Lastly, we calculate the portfolio values for the naive model and the random forest model based upon a 0.5 threshold as reference points to determine if in fact choosing an optimal threshold increases the value of the loan portfolio."
   ]
  },
  {
   "cell_type": "code",
   "execution_count": 62,
   "metadata": {},
   "outputs": [],
   "source": [
    "#Calculating the predicted target classes for the test set if we assume a threshold of 0.5\n",
    "random_forest_pred_discrete_point_five = pd.Series((random_forest_pred > 0.5) + 0, dtype=np.int8)\n",
    "\n",
    "naive_portfolio_value_obj = helpers.calc_portfolio_value(x_test=x_test, y_test=y_test, y_prediction=naive_pred, y_prediction_discrete=naive_pred, threshold=0.5, fixed_cost=100, desired_return=0.05)\n",
    "naive_max_portfolio_value = naive_portfolio_value_obj[0]\n",
    "\n",
    "#Calculating the Portfolio Value given a threshold of 0.5\n",
    "random_forest_portfolio_value_point_five_obj = helpers.calc_portfolio_value(x_test=x_test, y_test=y_test, y_prediction=random_forest_pred, y_prediction_discrete=random_forest_pred_discrete_point_five, threshold=0.5, fixed_cost=100, desired_return=0.05)\n",
    "random_forest_portfolio_value_point_five = random_forest_portfolio_value_point_five_obj[0]"
   ]
  },
  {
   "cell_type": "markdown",
   "metadata": {},
   "source": [
    "Note that any non-zero threshold results in the same portfolio value in the Naive model since the probability of default for all loans is 0."
   ]
  },
  {
   "cell_type": "code",
   "execution_count": 63,
   "metadata": {},
   "outputs": [
    {
     "name": "stdout",
     "output_type": "stream",
     "text": [
      "Naive Portfolio Value (Threshold=0.5): $203,498,022\n",
      "Random Forest Portfolio Value (Threshold=0.5): $823,674,285\n"
     ]
    }
   ],
   "source": [
    "print('Naive Portfolio Value (Threshold=0.5): ${:0,.0f}'.format(naive_max_portfolio_value).replace('$-','-$'))\n",
    "print('Random Forest Portfolio Value (Threshold=0.5): ${:0,.0f}'.format(random_forest_portfolio_value_point_five).replace('$-','-$'))"
   ]
  },
  {
   "cell_type": "markdown",
   "metadata": {
    "toc-hr-collapsed": true
   },
   "source": [
    "## Determining the optimal classification threshold with automatic model tuning<a id='hpo'></a>"
   ]
  },
  {
   "cell_type": "markdown",
   "metadata": {},
   "source": [
    "Can we do better, by choosing a different threshold? And how do we go about finding the optimal threshold to balance the lender's risk and reward?\n",
    "\n",
    "In this section, the optimal threshold for classifying loans as default or non-default is determined using the Amazon SageMaker automatic model tuning functionality. The optimal threshold is the threshold that maximizes the user's value metric. In this case, the metric that is being maximized is total portfolio value, as described above.  \n",
    "\n",
    "To use Amazon SageMaker automatic model tuning to optimize the classification threshold, we construct a Docker container that takes the random forest model trained previously and the test set as input. Given a threshold, the container calculates the total value of the portfolio if the lender extended all loans classified as non-default, and the borrower accepted them. Amazon SageMaker automatic model tuning generates a range of thresholds between 0 and 1 and chooses the threshold that maximizes portfolio value. \n",
    "\n",
    "For more information on Automatic Model Tuning using Amazon SageMaker, please refer to the [Amazon SageMaker documentation](#https://docs.aws.amazon.com/sagemaker/latest/dg/automatic-model-tuning.html)"
   ]
  },
  {
   "cell_type": "markdown",
   "metadata": {},
   "source": [
    "### Building the container image<a id='container'></a>"
   ]
  },
  {
   "cell_type": "markdown",
   "metadata": {},
   "source": [
    "Executing the line of code below builds the Docker image and pushes the image to Amazon Elastic Container Registry (ECR). This Docker image contains the code that calculates the portfolio value given a trained model and a specific threshold.\n",
    "\n",
    "The \"image_name\" defined at the top of this notebook is the name that will be assigned to the repository in ECR that contains this image."
   ]
  },
  {
   "cell_type": "code",
   "execution_count": 64,
   "metadata": {},
   "outputs": [
    {
     "name": "stdout",
     "output_type": "stream",
     "text": [
      "WARNING! Using --password via the CLI is insecure. Use --password-stdin.\n",
      "WARNING! Your password will be stored unencrypted in /home/ec2-user/.docker/config.json.\n",
      "Configure a credential helper to remove this warning. See\n",
      "https://docs.docker.com/engine/reference/commandline/login/#credentials-store\n",
      "\n",
      "Login Succeeded\n",
      "Sending build context to Docker daemon  2.289GB\n",
      "Step 1/10 : FROM continuumio/miniconda3:4.6.14\n",
      " ---> 6b5cf97566c3\n",
      "Step 2/10 : MAINTAINER Scott Gregoire <sggregoi@amazon.com>\n",
      " ---> Using cache\n",
      " ---> 4085cbc852bd\n",
      "Step 3/10 : RUN apt-get -y update\n",
      " ---> Using cache\n",
      " ---> d4fdadd4310c\n",
      "Step 4/10 : RUN conda install pandas==0.24.2 scikit-learn==0.20.0 numpy scipy\n",
      " ---> Using cache\n",
      " ---> cacf286ca011\n",
      "Step 5/10 : RUN pip install boto3==1.9.159\n",
      " ---> Using cache\n",
      " ---> d7b732497d8a\n",
      "Step 6/10 : ENV PYTHONUNBUFFERED=TRUE\n",
      " ---> Using cache\n",
      " ---> dfbdb05fe381\n",
      "Step 7/10 : ENV PYTHONDONTWRITEBYTECODE=TRUE\n",
      " ---> Using cache\n",
      " ---> 2fd4874a6472\n",
      "Step 8/10 : ENV PATH=\"/opt/program:${PATH}\"\n",
      " ---> Using cache\n",
      " ---> 6c9d4cada591\n",
      "Step 9/10 : COPY container/hpo /opt/program\n",
      " ---> Using cache\n",
      " ---> 045f7c4907cb\n",
      "Step 10/10 : WORKDIR /opt/program\n",
      " ---> Using cache\n",
      " ---> d26141d77917\n",
      "Successfully built d26141d77917\n",
      "Successfully tagged portfolio-value-optimization-blog-post:latest\n",
      "The push refers to repository [911148158337.dkr.ecr.us-west-2.amazonaws.com/portfolio-value-optimization-blog-post]\n",
      "\n",
      "\u001b[1Bde73b15a: Preparing \n",
      "\u001b[1B183df0b4: Preparing \n",
      "\u001b[1Be2a47f2a: Preparing \n",
      "\u001b[1B2b475a01: Preparing \n",
      "\u001b[1Bc65c8dc4: Preparing \n",
      "\u001b[1B2f5d7ee9: Preparing \n",
      "\u001b[1Bb1358a5a: Preparing \n",
      "\u001b[1B1ff9ade6: Preparing \n",
      "\u001b[1B41a8b943: Layer already exists \u001b[4A\u001b[1K\u001b[Klatest: digest: sha256:83020feab85066ea53dffe19d5fbd790ae33b2814da162dbdee52674be121454 size: 2215\n"
     ]
    }
   ],
   "source": [
    "! ./build_and_push.sh {image_name}"
   ]
  },
  {
   "cell_type": "code",
   "execution_count": 65,
   "metadata": {},
   "outputs": [],
   "source": [
    "account = sagemaker_session.boto_session.client('sts').get_caller_identity()['Account']\n",
    "region = sagemaker_session.boto_session.region_name\n",
    "image = '{}.dkr.ecr.{}.amazonaws.com/{}:latest'.format(account, region, image_name)"
   ]
  },
  {
   "cell_type": "markdown",
   "metadata": {},
   "source": [
    "### Running the Automatic Model Tuning job<a id='job'></a>"
   ]
  },
  {
   "cell_type": "markdown",
   "metadata": {},
   "source": [
    "To use the Amazon SageMaker automatic model tuning feature, we first need to define the metric that we want Amazon SageMaker to optimize, the parameter space we want the tuning job to search over to find the optimal threshold, and any additional metrics we want calculated during the tuning job.\n",
    "\n",
    "First, we define the metrics we wish each job to return. As we'd like to explore the characteristics of the portfolio generated in some detail, we generate a list of metrics that describe the approved and rejected loans. These metrics are reported from each training job that runs via automatic model tuning. The additional metrics allow us to explore the characteristics of the maximized portfolio.\n",
    "\n",
    "Of all the metrics we define, we need to specify which metric the automatic model tuning job should use to optimize the threshold. We do this by specifying the objective_metric_name in the HyperparameterTuner object below. In the same object, we must specify the hyperparameter range we would like to search over; in this case, we specify all continuous values between 0 and 1 to search over for the optimal threshold.\n",
    "\n",
    "Lastly, we specify that we want Amazon SageMaker to run 200 individual training jobs. Each of these 200 training jobs uses a specific threshold value to calculate a different portfolio value. After Amazon SageMaker calculates the 200 portfolio values, each based upon a different threshold, it outputs the threshold that maximizes portfolio value."
   ]
  },
  {
   "cell_type": "code",
   "execution_count": 66,
   "metadata": {},
   "outputs": [],
   "source": [
    "objective_metric_name = 'portfolio_value'\n",
    "objective_type = 'Maximize' #Maximize or Minimize\n",
    "base_tuning_job_name = 'hpo-threshold'\n",
    "\n",
    "metric_definitions = [\n",
    "                      {'Name': 'portfolio_value',\n",
    "                       'Regex': 'portfolio_value: (\\\\S+)'},\n",
    "    \n",
    "                      {'Name': 'accuracy',\n",
    "                       'Regex': 'accuracy: (\\\\S+)'},\n",
    "                        \n",
    "                      {'Name': 'approved_loan_total',\n",
    "                       'Regex': 'approved_loan_total: (\\\\S+)'},\n",
    "                      {'Name': 'approved_loan_cnt',\n",
    "                       'Regex': 'approved_loan_cnt: (\\\\S+)'},\n",
    "                      {'Name': 'approved_loan_25',\n",
    "                       'Regex': 'approved_loan_25: (\\\\S+)'},\n",
    "                      {'Name': 'approved_loan_50',\n",
    "                       'Regex': 'approved_loan_50: (\\\\S+)'},\n",
    "                      {'Name': 'approved_loan_75',\n",
    "                       'Regex': 'approved_loan_75: (\\\\S+)'},\n",
    "\n",
    "                      {'Name': 'rejected_loan_total',\n",
    "                       'Regex': 'rejected_loan_total: (\\\\S+)'},\n",
    "                      {'Name': 'rejected_loan_cnt',\n",
    "                       'Regex': 'rejected_loan_cnt: (\\\\S+)'},\n",
    "                      {'Name': 'rejected_loan_25',\n",
    "                       'Regex': 'rejected_loan_25: (\\\\S+)'},\n",
    "                      {'Name': 'rejected_loan_50',\n",
    "                       'Regex': 'rejected_loan_50: (\\\\S+)'},\n",
    "                      {'Name': 'rejected_loan_75',\n",
    "                       'Regex': 'rejected_loan_75: (\\\\S+)'},\n",
    "    \n",
    "                      {'Name': 'approved_interest_rate_cnt',\n",
    "                       'Regex': 'approved_interest_rate_cnt: (\\\\S+)'},\n",
    "                      {'Name': 'approved_interest_rate_25',\n",
    "                       'Regex': 'approved_interest_rate_25: (\\\\S+)'},\n",
    "                      {'Name': 'approved_interest_rate_50',\n",
    "                       'Regex': 'approved_interest_rate_50: (\\\\S+)'},\n",
    "                      {'Name': 'approved_interest_rate_75',\n",
    "                       'Regex': 'approved_interest_rate_75: (\\\\S+)'},\n",
    "    \n",
    "                      {'Name': 'tn',\n",
    "                       'Regex': 'TN: (\\\\S+)'},\n",
    "                      {'Name': 'fp',\n",
    "                       'Regex': 'FP: (\\\\S+)'},\n",
    "                      {'Name': 'fn',\n",
    "                       'Regex': 'FN: (\\\\S+)'},\n",
    "                      {'Name': 'tp',\n",
    "                       'Regex': 'TP: (\\\\S+)'}      \n",
    "                     ]\n",
    "\n",
    "#Specify type of loss function with which to train the model. Specify false negative and false negative costs\n",
    "#if using a custom loss function\n",
    "\n",
    "hyperparameters_static = {\n",
    "            \"model_pickle_bucket\": bucket, \n",
    "            \"model_pickle_key\": model_pickle_key \n",
    "        }\n",
    "\n",
    "hpo_model = sagemaker.estimator.Estimator(image_name=image,\n",
    "                    role=role,\n",
    "                    train_instance_count=1,\n",
    "                    train_instance_type='ml.c5.2xlarge',\n",
    "                    output_path=model_artifacts_s3_location,\n",
    "                    hyperparameters=hyperparameters_static,\n",
    "                    sagemaker_session=sagemaker_session)\n",
    "\n",
    "hyperparameter_ranges = {\n",
    "    'threshold': sagemaker.tuner.ContinuousParameter(0,1)\n",
    "}\n",
    "\n",
    "tuner = sagemaker.tuner.HyperparameterTuner(hpo_model,\n",
    "                            objective_metric_name,\n",
    "                            hyperparameter_ranges,\n",
    "                            metric_definitions,\n",
    "                            objective_type=objective_type,\n",
    "                            max_jobs=200,\n",
    "                            max_parallel_jobs=10,\n",
    "                            strategy='Random', #Options here are Random or Bayesian\n",
    "                            base_tuning_job_name=base_tuning_job_name)\n",
    "\n",
    "tuner.fit({\n",
    "    'train': train_data_s3_location,\n",
    "    'test': test_data_s3_location\n",
    "})"
   ]
  },
  {
   "cell_type": "code",
   "execution_count": 69,
   "metadata": {},
   "outputs": [
    {
     "name": "stdout",
     "output_type": "stream",
     "text": [
      "Job name is: hpo-threshold-190808-1957\n"
     ]
    }
   ],
   "source": [
    "hpo_job_name = tuner.latest_tuning_job.job_name\n",
    "print(\"Job name is: \" + hpo_job_name)"
   ]
  },
  {
   "cell_type": "code",
   "execution_count": 71,
   "metadata": {},
   "outputs": [
    {
     "name": "stdout",
     "output_type": "stream",
     "text": [
      "Status is: Completed\n"
     ]
    }
   ],
   "source": [
    "print(\"Status is: \" + boto3.client('sagemaker').describe_hyper_parameter_tuning_job(\n",
    "    HyperParameterTuningJobName=tuner.latest_tuning_job.job_name)['HyperParameterTuningJobStatus'])"
   ]
  },
  {
   "cell_type": "markdown",
   "metadata": {},
   "source": [
    "Wait until the job status is \"Completed\" (about one hour). You can rerun the cell above to check status."
   ]
  },
  {
   "cell_type": "markdown",
   "metadata": {
    "toc-hr-collapsed": true
   },
   "source": [
    "## Analyzing model performance (part 2)<a id='performance_two'></a>\n",
    "\n",
    "In this section, we continue analyzing the performance of the Naive and Random Forest models, but now that we have determined the optimal threshold, we are able to incorporate threshold-based metrics in the analysis."
   ]
  },
  {
   "cell_type": "markdown",
   "metadata": {},
   "source": [
    "### Collecting the Automatic Model Tuning job metrics"
   ]
  },
  {
   "cell_type": "markdown",
   "metadata": {},
   "source": [
    "First, we collect the metrics and metadata from the HPO job and merge the information into a single dataframe."
   ]
  },
  {
   "cell_type": "code",
   "execution_count": 72,
   "metadata": {},
   "outputs": [
    {
     "name": "stdout",
     "output_type": "stream",
     "text": [
      "50  Training Jobs loaded.\n",
      "100  Training Jobs loaded.\n",
      "150  Training Jobs loaded.\n",
      "200  Training Jobs loaded.\n"
     ]
    }
   ],
   "source": [
    "hpo_metrics = helpers.get_hpo_metrics(hpo_job_name)\n",
    "hpo_hyperparameters = helpers.get_hyperparameters(hpo_job_name)\n",
    "\n",
    "hpo = hpo_metrics.merge(hpo_hyperparameters, how='inner', left_index=True, right_on='TrainingJobName')\n",
    "hpo = hpo.drop(columns='portfolio_value_x')\n",
    "hpo = hpo.rename(columns={'portfolio_value_y':'portfolio_value'})\n",
    "\n",
    "hpo['threshold'] = round(hpo['threshold'], 3)"
   ]
  },
  {
   "cell_type": "markdown",
   "metadata": {},
   "source": [
    "Calculating the return for each portfolio, that is, the net portfolio value divided by the total credit lent."
   ]
  },
  {
   "cell_type": "code",
   "execution_count": 73,
   "metadata": {},
   "outputs": [],
   "source": [
    "hpo['portfolio_return'] = hpo['portfolio_value']/hpo['approved_loan_total']"
   ]
  },
  {
   "cell_type": "code",
   "execution_count": 99,
   "metadata": {},
   "outputs": [
    {
     "data": {
      "text/html": [
       "<div>\n",
       "<style scoped>\n",
       "    .dataframe tbody tr th:only-of-type {\n",
       "        vertical-align: middle;\n",
       "    }\n",
       "\n",
       "    .dataframe tbody tr th {\n",
       "        vertical-align: top;\n",
       "    }\n",
       "\n",
       "    .dataframe thead th {\n",
       "        text-align: right;\n",
       "    }\n",
       "</style>\n",
       "<table border=\"1\" class=\"dataframe\">\n",
       "  <thead>\n",
       "    <tr style=\"text-align: right;\">\n",
       "      <th></th>\n",
       "      <th>accuracy</th>\n",
       "      <th>approved_interest_rate_25</th>\n",
       "      <th>approved_interest_rate_50</th>\n",
       "      <th>approved_interest_rate_75</th>\n",
       "      <th>approved_interest_rate_cnt</th>\n",
       "      <th>approved_loan_25</th>\n",
       "      <th>approved_loan_50</th>\n",
       "      <th>approved_loan_75</th>\n",
       "      <th>approved_loan_cnt</th>\n",
       "      <th>approved_loan_total</th>\n",
       "      <th>fn</th>\n",
       "      <th>fp</th>\n",
       "      <th>rejected_loan_25</th>\n",
       "      <th>rejected_loan_50</th>\n",
       "      <th>rejected_loan_75</th>\n",
       "      <th>rejected_loan_cnt</th>\n",
       "      <th>rejected_loan_total</th>\n",
       "      <th>tn</th>\n",
       "      <th>tp</th>\n",
       "      <th>TrainingJobName</th>\n",
       "      <th>portfolio_value</th>\n",
       "      <th>threshold</th>\n",
       "      <th>portfolio_return</th>\n",
       "      <th>threshold_2_digit</th>\n",
       "    </tr>\n",
       "  </thead>\n",
       "  <tbody>\n",
       "    <tr>\n",
       "      <th>98</th>\n",
       "      <td>0.935932</td>\n",
       "      <td>0.05</td>\n",
       "      <td>0.057500</td>\n",
       "      <td>0.076087</td>\n",
       "      <td>73114.0</td>\n",
       "      <td>43000.0</td>\n",
       "      <td>100000.0</td>\n",
       "      <td>253725.0</td>\n",
       "      <td>73114.0</td>\n",
       "      <td>1.570100e+10</td>\n",
       "      <td>2899.0</td>\n",
       "      <td>2878.0</td>\n",
       "      <td>23000.0</td>\n",
       "      <td>45000.0</td>\n",
       "      <td>100000.0</td>\n",
       "      <td>15729.0</td>\n",
       "      <td>1.541148e+09</td>\n",
       "      <td>70215.0</td>\n",
       "      <td>12851.0</td>\n",
       "      <td>hpo-threshold-190808-1957-102-2cc59551</td>\n",
       "      <td>841421888.0</td>\n",
       "      <td>0.359</td>\n",
       "      <td>0.053590</td>\n",
       "      <td>0.35</td>\n",
       "    </tr>\n",
       "    <tr>\n",
       "      <th>117</th>\n",
       "      <td>0.935932</td>\n",
       "      <td>0.05</td>\n",
       "      <td>0.057500</td>\n",
       "      <td>0.076087</td>\n",
       "      <td>73114.0</td>\n",
       "      <td>43000.0</td>\n",
       "      <td>100000.0</td>\n",
       "      <td>253725.0</td>\n",
       "      <td>73114.0</td>\n",
       "      <td>1.570100e+10</td>\n",
       "      <td>2899.0</td>\n",
       "      <td>2878.0</td>\n",
       "      <td>23000.0</td>\n",
       "      <td>45000.0</td>\n",
       "      <td>100000.0</td>\n",
       "      <td>15729.0</td>\n",
       "      <td>1.541148e+09</td>\n",
       "      <td>70215.0</td>\n",
       "      <td>12851.0</td>\n",
       "      <td>hpo-threshold-190808-1957-083-afccf0e4</td>\n",
       "      <td>841421888.0</td>\n",
       "      <td>0.358</td>\n",
       "      <td>0.053590</td>\n",
       "      <td>0.35</td>\n",
       "    </tr>\n",
       "    <tr>\n",
       "      <th>41</th>\n",
       "      <td>0.935932</td>\n",
       "      <td>0.05</td>\n",
       "      <td>0.057143</td>\n",
       "      <td>0.076087</td>\n",
       "      <td>72889.0</td>\n",
       "      <td>43000.0</td>\n",
       "      <td>100000.0</td>\n",
       "      <td>254000.0</td>\n",
       "      <td>72889.0</td>\n",
       "      <td>1.566342e+10</td>\n",
       "      <td>2825.0</td>\n",
       "      <td>3029.0</td>\n",
       "      <td>23500.0</td>\n",
       "      <td>48000.0</td>\n",
       "      <td>100000.0</td>\n",
       "      <td>15954.0</td>\n",
       "      <td>1.578729e+09</td>\n",
       "      <td>70064.0</td>\n",
       "      <td>12925.0</td>\n",
       "      <td>hpo-threshold-190808-1957-159-587c4c83</td>\n",
       "      <td>840656704.0</td>\n",
       "      <td>0.349</td>\n",
       "      <td>0.053670</td>\n",
       "      <td>0.34</td>\n",
       "    </tr>\n",
       "    <tr>\n",
       "      <th>36</th>\n",
       "      <td>0.935932</td>\n",
       "      <td>0.05</td>\n",
       "      <td>0.057143</td>\n",
       "      <td>0.076087</td>\n",
       "      <td>72888.0</td>\n",
       "      <td>43000.0</td>\n",
       "      <td>100000.0</td>\n",
       "      <td>254000.0</td>\n",
       "      <td>72888.0</td>\n",
       "      <td>1.566341e+10</td>\n",
       "      <td>2825.0</td>\n",
       "      <td>3030.0</td>\n",
       "      <td>23500.0</td>\n",
       "      <td>48000.0</td>\n",
       "      <td>100000.0</td>\n",
       "      <td>15955.0</td>\n",
       "      <td>1.578734e+09</td>\n",
       "      <td>70063.0</td>\n",
       "      <td>12925.0</td>\n",
       "      <td>hpo-threshold-190808-1957-164-3e1d3949</td>\n",
       "      <td>840654976.0</td>\n",
       "      <td>0.342</td>\n",
       "      <td>0.053670</td>\n",
       "      <td>0.34</td>\n",
       "    </tr>\n",
       "    <tr>\n",
       "      <th>31</th>\n",
       "      <td>0.935932</td>\n",
       "      <td>0.05</td>\n",
       "      <td>0.057143</td>\n",
       "      <td>0.076087</td>\n",
       "      <td>72888.0</td>\n",
       "      <td>43000.0</td>\n",
       "      <td>100000.0</td>\n",
       "      <td>254000.0</td>\n",
       "      <td>72888.0</td>\n",
       "      <td>1.566341e+10</td>\n",
       "      <td>2825.0</td>\n",
       "      <td>3030.0</td>\n",
       "      <td>23500.0</td>\n",
       "      <td>48000.0</td>\n",
       "      <td>100000.0</td>\n",
       "      <td>15955.0</td>\n",
       "      <td>1.578734e+09</td>\n",
       "      <td>70063.0</td>\n",
       "      <td>12925.0</td>\n",
       "      <td>hpo-threshold-190808-1957-169-ceecb349</td>\n",
       "      <td>840654976.0</td>\n",
       "      <td>0.344</td>\n",
       "      <td>0.053670</td>\n",
       "      <td>0.34</td>\n",
       "    </tr>\n",
       "    <tr>\n",
       "      <th>51</th>\n",
       "      <td>0.935932</td>\n",
       "      <td>0.05</td>\n",
       "      <td>0.057732</td>\n",
       "      <td>0.078571</td>\n",
       "      <td>74145.0</td>\n",
       "      <td>42400.0</td>\n",
       "      <td>100000.0</td>\n",
       "      <td>252000.0</td>\n",
       "      <td>74145.0</td>\n",
       "      <td>1.591500e+10</td>\n",
       "      <td>3314.0</td>\n",
       "      <td>2262.0</td>\n",
       "      <td>20000.0</td>\n",
       "      <td>40650.0</td>\n",
       "      <td>92325.0</td>\n",
       "      <td>14698.0</td>\n",
       "      <td>1.327143e+09</td>\n",
       "      <td>70831.0</td>\n",
       "      <td>12436.0</td>\n",
       "      <td>hpo-threshold-190808-1957-149-5a6520ed</td>\n",
       "      <td>840528832.0</td>\n",
       "      <td>0.405</td>\n",
       "      <td>0.052814</td>\n",
       "      <td>0.40</td>\n",
       "    </tr>\n",
       "    <tr>\n",
       "      <th>13</th>\n",
       "      <td>0.935932</td>\n",
       "      <td>0.05</td>\n",
       "      <td>0.057732</td>\n",
       "      <td>0.078571</td>\n",
       "      <td>74144.0</td>\n",
       "      <td>42475.0</td>\n",
       "      <td>100000.0</td>\n",
       "      <td>252000.0</td>\n",
       "      <td>74144.0</td>\n",
       "      <td>1.591499e+10</td>\n",
       "      <td>3314.0</td>\n",
       "      <td>2263.0</td>\n",
       "      <td>20000.0</td>\n",
       "      <td>40600.0</td>\n",
       "      <td>92250.0</td>\n",
       "      <td>14699.0</td>\n",
       "      <td>1.327158e+09</td>\n",
       "      <td>70830.0</td>\n",
       "      <td>12436.0</td>\n",
       "      <td>hpo-threshold-190808-1957-187-4f6257db</td>\n",
       "      <td>840522496.0</td>\n",
       "      <td>0.400</td>\n",
       "      <td>0.052813</td>\n",
       "      <td>0.40</td>\n",
       "    </tr>\n",
       "    <tr>\n",
       "      <th>193</th>\n",
       "      <td>0.935932</td>\n",
       "      <td>0.05</td>\n",
       "      <td>0.057732</td>\n",
       "      <td>0.078571</td>\n",
       "      <td>74144.0</td>\n",
       "      <td>42475.0</td>\n",
       "      <td>100000.0</td>\n",
       "      <td>252000.0</td>\n",
       "      <td>74144.0</td>\n",
       "      <td>1.591499e+10</td>\n",
       "      <td>3314.0</td>\n",
       "      <td>2263.0</td>\n",
       "      <td>20000.0</td>\n",
       "      <td>40600.0</td>\n",
       "      <td>92250.0</td>\n",
       "      <td>14699.0</td>\n",
       "      <td>1.327158e+09</td>\n",
       "      <td>70830.0</td>\n",
       "      <td>12436.0</td>\n",
       "      <td>hpo-threshold-190808-1957-007-680a2308</td>\n",
       "      <td>840522496.0</td>\n",
       "      <td>0.402</td>\n",
       "      <td>0.052813</td>\n",
       "      <td>0.40</td>\n",
       "    </tr>\n",
       "    <tr>\n",
       "      <th>2</th>\n",
       "      <td>0.935932</td>\n",
       "      <td>0.05</td>\n",
       "      <td>0.057732</td>\n",
       "      <td>0.077273</td>\n",
       "      <td>73735.0</td>\n",
       "      <td>42687.5</td>\n",
       "      <td>100000.0</td>\n",
       "      <td>253000.0</td>\n",
       "      <td>73735.0</td>\n",
       "      <td>1.583827e+10</td>\n",
       "      <td>3138.0</td>\n",
       "      <td>2496.0</td>\n",
       "      <td>20300.0</td>\n",
       "      <td>45000.0</td>\n",
       "      <td>99127.0</td>\n",
       "      <td>15108.0</td>\n",
       "      <td>1.403881e+09</td>\n",
       "      <td>70597.0</td>\n",
       "      <td>12612.0</td>\n",
       "      <td>hpo-threshold-190808-1957-198-6e7e67a5</td>\n",
       "      <td>840333760.0</td>\n",
       "      <td>0.387</td>\n",
       "      <td>0.053057</td>\n",
       "      <td>0.38</td>\n",
       "    </tr>\n",
       "    <tr>\n",
       "      <th>63</th>\n",
       "      <td>0.935932</td>\n",
       "      <td>0.05</td>\n",
       "      <td>0.057732</td>\n",
       "      <td>0.077273</td>\n",
       "      <td>73734.0</td>\n",
       "      <td>42700.0</td>\n",
       "      <td>100000.0</td>\n",
       "      <td>253000.0</td>\n",
       "      <td>73734.0</td>\n",
       "      <td>1.583824e+10</td>\n",
       "      <td>3138.0</td>\n",
       "      <td>2497.0</td>\n",
       "      <td>20300.0</td>\n",
       "      <td>45000.0</td>\n",
       "      <td>99100.0</td>\n",
       "      <td>15109.0</td>\n",
       "      <td>1.403906e+09</td>\n",
       "      <td>70596.0</td>\n",
       "      <td>12612.0</td>\n",
       "      <td>hpo-threshold-190808-1957-137-e30b6471</td>\n",
       "      <td>840323904.0</td>\n",
       "      <td>0.383</td>\n",
       "      <td>0.053057</td>\n",
       "      <td>0.38</td>\n",
       "    </tr>\n",
       "  </tbody>\n",
       "</table>\n",
       "</div>"
      ],
      "text/plain": [
       "     accuracy  approved_interest_rate_25  approved_interest_rate_50  \\\n",
       "98   0.935932  0.05                       0.057500                    \n",
       "117  0.935932  0.05                       0.057500                    \n",
       "41   0.935932  0.05                       0.057143                    \n",
       "36   0.935932  0.05                       0.057143                    \n",
       "31   0.935932  0.05                       0.057143                    \n",
       "51   0.935932  0.05                       0.057732                    \n",
       "13   0.935932  0.05                       0.057732                    \n",
       "193  0.935932  0.05                       0.057732                    \n",
       "2    0.935932  0.05                       0.057732                    \n",
       "63   0.935932  0.05                       0.057732                    \n",
       "\n",
       "     approved_interest_rate_75  approved_interest_rate_cnt  approved_loan_25  \\\n",
       "98   0.076087                   73114.0                     43000.0            \n",
       "117  0.076087                   73114.0                     43000.0            \n",
       "41   0.076087                   72889.0                     43000.0            \n",
       "36   0.076087                   72888.0                     43000.0            \n",
       "31   0.076087                   72888.0                     43000.0            \n",
       "51   0.078571                   74145.0                     42400.0            \n",
       "13   0.078571                   74144.0                     42475.0            \n",
       "193  0.078571                   74144.0                     42475.0            \n",
       "2    0.077273                   73735.0                     42687.5            \n",
       "63   0.077273                   73734.0                     42700.0            \n",
       "\n",
       "     approved_loan_50  approved_loan_75  approved_loan_cnt  \\\n",
       "98   100000.0          253725.0          73114.0             \n",
       "117  100000.0          253725.0          73114.0             \n",
       "41   100000.0          254000.0          72889.0             \n",
       "36   100000.0          254000.0          72888.0             \n",
       "31   100000.0          254000.0          72888.0             \n",
       "51   100000.0          252000.0          74145.0             \n",
       "13   100000.0          252000.0          74144.0             \n",
       "193  100000.0          252000.0          74144.0             \n",
       "2    100000.0          253000.0          73735.0             \n",
       "63   100000.0          253000.0          73734.0             \n",
       "\n",
       "     approved_loan_total      fn      fp  rejected_loan_25  rejected_loan_50  \\\n",
       "98   1.570100e+10         2899.0  2878.0  23000.0           45000.0            \n",
       "117  1.570100e+10         2899.0  2878.0  23000.0           45000.0            \n",
       "41   1.566342e+10         2825.0  3029.0  23500.0           48000.0            \n",
       "36   1.566341e+10         2825.0  3030.0  23500.0           48000.0            \n",
       "31   1.566341e+10         2825.0  3030.0  23500.0           48000.0            \n",
       "51   1.591500e+10         3314.0  2262.0  20000.0           40650.0            \n",
       "13   1.591499e+10         3314.0  2263.0  20000.0           40600.0            \n",
       "193  1.591499e+10         3314.0  2263.0  20000.0           40600.0            \n",
       "2    1.583827e+10         3138.0  2496.0  20300.0           45000.0            \n",
       "63   1.583824e+10         3138.0  2497.0  20300.0           45000.0            \n",
       "\n",
       "     rejected_loan_75  rejected_loan_cnt  rejected_loan_total       tn  \\\n",
       "98   100000.0          15729.0            1.541148e+09         70215.0   \n",
       "117  100000.0          15729.0            1.541148e+09         70215.0   \n",
       "41   100000.0          15954.0            1.578729e+09         70064.0   \n",
       "36   100000.0          15955.0            1.578734e+09         70063.0   \n",
       "31   100000.0          15955.0            1.578734e+09         70063.0   \n",
       "51   92325.0           14698.0            1.327143e+09         70831.0   \n",
       "13   92250.0           14699.0            1.327158e+09         70830.0   \n",
       "193  92250.0           14699.0            1.327158e+09         70830.0   \n",
       "2    99127.0           15108.0            1.403881e+09         70597.0   \n",
       "63   99100.0           15109.0            1.403906e+09         70596.0   \n",
       "\n",
       "          tp                         TrainingJobName  portfolio_value  \\\n",
       "98   12851.0  hpo-threshold-190808-1957-102-2cc59551  841421888.0       \n",
       "117  12851.0  hpo-threshold-190808-1957-083-afccf0e4  841421888.0       \n",
       "41   12925.0  hpo-threshold-190808-1957-159-587c4c83  840656704.0       \n",
       "36   12925.0  hpo-threshold-190808-1957-164-3e1d3949  840654976.0       \n",
       "31   12925.0  hpo-threshold-190808-1957-169-ceecb349  840654976.0       \n",
       "51   12436.0  hpo-threshold-190808-1957-149-5a6520ed  840528832.0       \n",
       "13   12436.0  hpo-threshold-190808-1957-187-4f6257db  840522496.0       \n",
       "193  12436.0  hpo-threshold-190808-1957-007-680a2308  840522496.0       \n",
       "2    12612.0  hpo-threshold-190808-1957-198-6e7e67a5  840333760.0       \n",
       "63   12612.0  hpo-threshold-190808-1957-137-e30b6471  840323904.0       \n",
       "\n",
       "     threshold  portfolio_return  threshold_2_digit  \n",
       "98   0.359      0.053590          0.35               \n",
       "117  0.358      0.053590          0.35               \n",
       "41   0.349      0.053670          0.34               \n",
       "36   0.342      0.053670          0.34               \n",
       "31   0.344      0.053670          0.34               \n",
       "51   0.405      0.052814          0.40               \n",
       "13   0.400      0.052813          0.40               \n",
       "193  0.402      0.052813          0.40               \n",
       "2    0.387      0.053057          0.38               \n",
       "63   0.383      0.053057          0.38               "
      ]
     },
     "execution_count": 99,
     "metadata": {},
     "output_type": "execute_result"
    }
   ],
   "source": [
    "hpo.sort_values(by='portfolio_value', ascending=False).head(10)"
   ]
  },
  {
   "cell_type": "markdown",
   "metadata": {},
   "source": [
    "While many of the reported metrics are the same for each of these first few HPO jobs, the threshold used varies (scroll to the right). As we move down the list, the portfolio_value, approved_ and rejected_load_totals, and the true and false negatives and positives begin to shift."
   ]
  },
  {
   "cell_type": "markdown",
   "metadata": {},
   "source": [
    "### Plotting the Automatic Model Tuning job results"
   ]
  },
  {
   "cell_type": "markdown",
   "metadata": {},
   "source": [
    "The flatness in these graphs is due to the precision of predictions, which is a function of the number of trees in the random forest model. Since there are 100 tree in the random forest model, the precision of the predictions is 2 decimal places. This implies that all thresholds, for example, >.32 and <=.33 give the same result.  "
   ]
  },
  {
   "cell_type": "code",
   "execution_count": 75,
   "metadata": {},
   "outputs": [
    {
     "name": "stdout",
     "output_type": "stream",
     "text": [
      "Optimal Threshold: 0.359\n"
     ]
    }
   ],
   "source": [
    "optimal_threshold = hpo.sort_values(by='portfolio_value', ascending=False).iloc[0,:]['threshold']\n",
    "print('Optimal Threshold: {}'.format(optimal_threshold))"
   ]
  },
  {
   "cell_type": "markdown",
   "metadata": {},
   "source": [
    "#### Prediction distributions given the optimal threshold"
   ]
  },
  {
   "cell_type": "markdown",
   "metadata": {},
   "source": [
    "Now that we know the optimal threshold, we are able to plot the probability predictions of the Random Forest model and classify each as correct or incorrect. The top histogram plots the distribution of predicted scores for all actual negatives, that is, predicted scores for actual non-defaulters. The bottom histogram plots predicted scores for actual defaulters. The correctly classified observations on each plot are colored blue, and the incorrectly classified observations are colored orange. "
   ]
  },
  {
   "cell_type": "code",
   "execution_count": 76,
   "metadata": {},
   "outputs": [
    {
     "data": {
      "image/png": "[encoded data removed]",
      "text/plain": [
       "<Figure size 720x576 with 2 Axes>"
      ]
     },
     "metadata": {},
     "output_type": "display_data"
    }
   ],
   "source": [
    "helpers.custom_pred_distro(positives=random_forest_positives, negatives=random_forest_negatives, cutoff=optimal_threshold, title=None)"
   ]
  },
  {
   "cell_type": "markdown",
   "metadata": {},
   "source": [
    "The plot shows that the optimal threshold is below 0.5 and to the left of the bulk of the actual positives. The threshold seems to be at the point where the rate of change of true negatives as the threshold increases is slowing and the rate of change of false negatives is speeding up. The automatic model tuning job seems to have chosen a threshold that balances the two rates of change. To better understand the choice of optimal threshold, we would need to dig deeper into the portfolio value calculation and understand the costs and benefits associated with a change in threshold."
   ]
  },
  {
   "cell_type": "markdown",
   "metadata": {},
   "source": [
    "#### Determining maximum portfolio value"
   ]
  },
  {
   "cell_type": "markdown",
   "metadata": {},
   "source": [
    "The following graphs plot the output of the automatic model tuning job. That is, they plot the portfolio value (on the y-axis) given a specific threshold (on the x-axis). Each point on a plot represents the outcome of a single training job from the overall automatic model tuning job. Recall that the goal is to find the classification threshold that optimizes the overall portfolio value. In each plot, the optimal threshold is the vertical, orange line.\n",
    "\n",
    "The graph on the far left plots all 200 training job outcomes. The middle graph plots the top 100 training jobs as ranked by portfolio value; and the far right graph plots the top 100 training jobs as ranked by portfolio value."
   ]
  },
  {
   "cell_type": "code",
   "execution_count": 77,
   "metadata": {},
   "outputs": [
    {
     "data": {
      "image/png": "[encoded data removed]",
      "text/plain": [
       "<Figure size 1728x432 with 3 Axes>"
      ]
     },
     "metadata": {},
     "output_type": "display_data"
    }
   ],
   "source": [
    "fig, axes = plt.subplots(1,3, figsize=(24, 6))\n",
    "\n",
    "hpo.plot.scatter(x='threshold', y='portfolio_value', ax=axes[0])\n",
    "axes[0].axvline(optimal_threshold, linestyle='--', color='orange')\n",
    "axes[0].set(title='Portfolio Value (All Portfolios)')\n",
    "axes[0].spines['right'].set_visible(False)\n",
    "axes[0].spines['top'].set_visible(False)\n",
    "\n",
    "hpo.sort_values(by='portfolio_value', ascending=False)[:100].plot.scatter(x='threshold', y='portfolio_value', ax=axes[1])\n",
    "axes[1].axvline(optimal_threshold, linestyle='--', color='orange')\n",
    "axes[1].set(title='Portfolio Value (100 Highest Portfolio Values)')\n",
    "axes[1].spines['right'].set_visible(False)\n",
    "axes[1].spines['top'].set_visible(False)\n",
    "\n",
    "hpo.sort_values(by='portfolio_value', ascending=False)[:50].plot.scatter(x='threshold', y='portfolio_value', ax=axes[2])\n",
    "axes[2].axvline(optimal_threshold, linestyle='--', color='orange')\n",
    "axes[2].set(title='Portfolio Value (50 Highest Portfolio Values)')\n",
    "axes[2].spines['right'].set_visible(False)\n",
    "axes[2].spines['top'].set_visible(False)\n",
    "\n",
    "plt.tight_layout()"
   ]
  },
  {
   "cell_type": "markdown",
   "metadata": {},
   "source": [
    "Interestingly, the magnitude of the rate of change as we increase the threshold beyond its optimum value is generally much lower than the magnitude of the rate of change as we increase the threshold from 0 to its optimal value. This asymmetry is due to the SBA guarantee. The guarantee limits the downside risk that the lender takes on as she loosens her borrowing standards. If the SBA guarantee were not in place, we would expect the right side of this graph to decrease much more steeply.\n",
    "\n",
    "Looking at the right two graphs, we zoom in on the peak of the curve and see that it is more symmetric around the optimal threshold. Something else to note is that the curve is not strictly decreasing after the optimal threshold; at times, the curve increases briefly. "
   ]
  },
  {
   "cell_type": "code",
   "execution_count": 78,
   "metadata": {},
   "outputs": [],
   "source": [
    "random_forest_max_portfolio_value = hpo.sort_values(by='portfolio_value', ascending=False).iloc[0,:]['portfolio_value']"
   ]
  },
  {
   "cell_type": "code",
   "execution_count": 79,
   "metadata": {},
   "outputs": [
    {
     "name": "stdout",
     "output_type": "stream",
     "text": [
      "Naive Portfolio Value (Threshold=0.5):  $203,498,022\n",
      "Random Forest Portfolio Value (Threshold=0.5): $823,674,285\n",
      "Random Forest Portfolio Value (Optimal Threshold=0.359): $841,421,888\n"
     ]
    }
   ],
   "source": [
    "print('Naive Portfolio Value (Threshold=0.5):  ${:0,.0f}'.format(naive_max_portfolio_value).replace('$-','-$'))\n",
    "print('Random Forest Portfolio Value (Threshold=0.5): ${:0,.0f}'.format(random_forest_portfolio_value_point_five).replace('$-','-$'))\n",
    "print('Random Forest Portfolio Value (Optimal Threshold={}): ${:0,.0f}'.format(optimal_threshold, random_forest_max_portfolio_value).replace('$-','-$'))"
   ]
  },
  {
   "cell_type": "markdown",
   "metadata": {},
   "source": [
    "The top portfolio value returned from the random forest model with an optimized threshold is higher than both that generated by the naive model and by the random forest model with a 0.5 threshold. The increased portfolio value by adjusting the threshold is $17.7M, or 2.1\\%—a substantial increase in potential return.\n",
    "\n",
    "Interestingly, the optimal threshold is less than 0.5, so the lender can increase the overall value of her portfolio by decreasing the credit risk of the loans in the portfolio (by decreasing the threshold). If the lender had used a 0.5 threshold (the typical default value), she would likely have created a portfolio likely with more credit risk and lower portfolio value. If the SBA guarantee were not in place for these loans, the portfolio value at a threshold of 0.5 would likely have been much lower. "
   ]
  },
  {
   "cell_type": "markdown",
   "metadata": {},
   "source": [
    "#### Return associated with maximum portfolio value"
   ]
  },
  {
   "cell_type": "markdown",
   "metadata": {},
   "source": [
    "This section shifts from focusing on the dollar return of the portfolio to the percentage return. The following set of graphs is similar to the previous set except that the graphs plot the net return on the portfolio associated with each of the 200 training jobs in the automatic model tuning run. The orange, vertical line is again the optimal threshold—optimal in the sense of maximizing portfolio value, not portfolio return—and the x-axis is the threshold. The y-axis is the portfolio return."
   ]
  },
  {
   "cell_type": "code",
   "execution_count": 80,
   "metadata": {},
   "outputs": [
    {
     "data": {
      "image/png": "[encoded data removed]",
      "text/plain": [
       "<Figure size 1728x432 with 3 Axes>"
      ]
     },
     "metadata": {},
     "output_type": "display_data"
    }
   ],
   "source": [
    "fig, axes = plt.subplots(1,3, figsize=(24, 6))\n",
    "\n",
    "hpo.plot.scatter(x='threshold', y='portfolio_return', ax=axes[0])\n",
    "axes[0].axvline(optimal_threshold, linestyle='--', color='orange')\n",
    "axes[0].set(title='Portfolio Return (All Portfolios)')\n",
    "axes[0].spines['right'].set_visible(False)\n",
    "axes[0].spines['top'].set_visible(False)\n",
    "\n",
    "hpo.sort_values(by='portfolio_value', ascending=False)[:100].plot.scatter(x='threshold', y='portfolio_return', ax=axes[1])\n",
    "axes[1].axvline(optimal_threshold, linestyle='--', color='orange')\n",
    "axes[1].set(title='Portfolio Return (100 Highest Return Portfolios)')\n",
    "axes[1].spines['right'].set_visible(False)\n",
    "axes[1].spines['top'].set_visible(False)\n",
    "\n",
    "hpo.sort_values(by='portfolio_value', ascending=False)[:50].plot.scatter(x='threshold', y='portfolio_return', ax=axes[2])\n",
    "axes[2].axvline(optimal_threshold, linestyle='--', color='orange')\n",
    "axes[2].set(title='Portfolio Return (50 Highest Return Portfolios)')\n",
    "axes[2].spines['right'].set_visible(False)\n",
    "axes[2].spines['top'].set_visible(False)\n",
    "\n",
    "plt.tight_layout()"
   ]
  },
  {
   "cell_type": "markdown",
   "metadata": {},
   "source": [
    "From left to right, these graphs plot all 200 training job outcomes, the top 100 outcomes (based upon portfolio values), and the top 50 outcomes (based upon portfolio values). These return curves are much flatter than the portfolio value curves in the previous set of graphs. This is because the lender actively set interest rates on each of the loans she extends so that the return on the overall portfolio is expected to be about 5%. Additionally, note that the optimal threshold does not mark the peak in portfolio return. This is because, when maximizing portfolio value, it doesn’t matter whether adding more loans increases the percentage return on the portfolio, only that adding more loans adds to the dollar return on the portfolio. We can add lower percentage return loans to the portfolio and still add positive value in dollar terms, and that is what we are attempting to maximize.\n",
    "\n",
    "The following output shows the results of calculating the return:"
   ]
  },
  {
   "cell_type": "code",
   "execution_count": 81,
   "metadata": {},
   "outputs": [
    {
     "name": "stdout",
     "output_type": "stream",
     "text": [
      "Naive Model Portfolio Return (Threshold=0.5): 0.012\n",
      "Random Forest Portfolio Return (Threshold=0.5): 0.051\n",
      "Random Forest Portfolio Return (Optimal Threshold=0.359): 0.054\n"
     ]
    }
   ],
   "source": [
    "print('Naive Model Portfolio Return (Threshold=0.5): {:0,.3f}'.format(naive_portfolio_value_obj[0]/naive_portfolio_value_obj[1]))\n",
    "print('Random Forest Portfolio Return (Threshold=0.5): {:0,.3f}'.format(random_forest_portfolio_value_point_five_obj[0]/random_forest_portfolio_value_point_five_obj[1]))\n",
    "print('Random Forest Portfolio Return (Optimal Threshold={}): {:0,.3f}'.format(optimal_threshold, hpo.sort_values(by='portfolio_value', ascending=False).iloc[0,:]['portfolio_return']))  "
   ]
  },
  {
   "cell_type": "markdown",
   "metadata": {},
   "source": [
    "Likewise, the portfolio return from the random forest model with an optimized threshold is much higher than that generated by the naive model, though the returns from the two random forest models are similar. This is because in both of those models, the lender can set borrower-specific interest rates to compensate for borrower-specific levels of credit risk. If the threshold increases and higher risk loans enter the portfolio, the lender can set higher interest rates on those loans and on average keep her return the same."
   ]
  },
  {
   "cell_type": "markdown",
   "metadata": {
    "toc-hr-collapsed": true
   },
   "source": [
    "## Adjusting the optimal threshold based upon additional business considerations<a id='adjustment'></a> \n",
    "\n",
    "Now we investigate how to determine if we should make marginal adjustments to the optimal threshold. Why would we want to adjust the optimal threshold calculated above? There may be certain idiosyncratic goals that a lender would like to achieve that are not captured by a generic portfolio value calculation. For example, a lender may want to maximize her portfolio value while also placing emphasis on lending to a certain sector of the economy or to a certain subgroup of the overall population. Adding this additional constraint to the portfolio value calculation itself may be difficult, if not impossible; whereas tackling these problem in two steps -- finding the generic optimum and then adjusting that optimum based upon idiosyncratic preferences -- is likely much easier and much more intuitive of a calculation.\n",
    "\n",
    "As an example, say that the lender would like to extend more credit to the Construction sector of the economy. She wishes to determine if she should increase the optimal threshold to achieve this goal. Essentially she needs to determine the price she is willing to pay to include one more Construction sector loan in the portfolio, and the effect on portfolio value of including that loan. If the price is greater than the cost, then she should increase the threshold.\n",
    "\n",
    "More specifically, to answer the question of whether the lender should increase the threshold by 0.01 (the smallest increment possible in our case), she needs to do the following:\n",
    "1. Determine the price P that she is willing to pay for each additional Construction loan.\n",
    "1. Calculate the decrease in portfolio value resulting from increasing the threshold by 0.01.  \n",
    "1. Calculate the number of Construction sector loans added to the portfolio when the threshold is increased.  \n",
    "1. Calculate the average cost of each additional Construction loan by dividing the change in portfolio value by number of Construction loans added to the portfolio. This is the mean cost C of each additional Construction loan in dollar terms.  \n",
    "1. Compare price P that lender is willing pay for each additional Construction to the cost C that must actually be paid for each additional Construction loan.  \n",
    "    5.1 If P >= -C, increase the threshold by 0.01.  \n",
    "    5.2 Otherwise, keep threshold as is.\n",
    "1. Continue to iterate on steps 2 to 5 above, until it is no longer advantageous to increase the threshold.\n",
    "    \n"
   ]
  },
  {
   "cell_type": "markdown",
   "metadata": {},
   "source": [
    "##### Step 1: Determine lender's willingness-to-pay\n",
    "\n",
    "The lender must first determine the amount of portfolio value she is willing to forfeit for each additional Construction sector loan. Asssume the lender's willing-to-pay P in this case is $75,000."
   ]
  },
  {
   "cell_type": "code",
   "execution_count": 82,
   "metadata": {},
   "outputs": [],
   "source": [
    "P = 75000"
   ]
  },
  {
   "cell_type": "markdown",
   "metadata": {},
   "source": [
    "##### Step 2: Determine decrease in portfolio value\n",
    "\n",
    "Now the lender must calculate the portfolio value at the optimal threshold and the next highest threshold value, and then calculate the difference to determine how much portfolio value decreases as she increases the threshold by the minimum unit."
   ]
  },
  {
   "cell_type": "code",
   "execution_count": 83,
   "metadata": {},
   "outputs": [
    {
     "name": "stdout",
     "output_type": "stream",
     "text": [
      "Optimal Threshold: 0.359\n",
      "Optimal Threshold plus Minimum Increase: 0.369\n"
     ]
    }
   ],
   "source": [
    "minimum_threshold_adjustment = .01 #minimum since 100 decision trees in Random Forest model\n",
    "\n",
    "print('Optimal Threshold: {}'.format(optimal_threshold))\n",
    "print('Optimal Threshold plus Minimum Increase: {}'.format(optimal_threshold + minimum_threshold_adjustment))"
   ]
  },
  {
   "cell_type": "markdown",
   "metadata": {},
   "source": [
    "Creating Boolean masks to subset the test data into groups that are incrementally included as the classification is increased."
   ]
  },
  {
   "cell_type": "code",
   "execution_count": 84,
   "metadata": {},
   "outputs": [],
   "source": [
    "approved_mask = random_forest_pred <= optimal_threshold\n",
    "threshold_plus_one_mask = (random_forest_pred > optimal_threshold) & (random_forest_pred <= (optimal_threshold + minimum_threshold_adjustment))"
   ]
  },
  {
   "cell_type": "markdown",
   "metadata": {},
   "source": [
    "Subsetting the loans in the test set into groups that are included as the threshold is increased by one, two, or three minimal units."
   ]
  },
  {
   "cell_type": "code",
   "execution_count": 85,
   "metadata": {},
   "outputs": [],
   "source": [
    "x_test_approved = x_test.reset_index(drop=True).loc[approved_mask,:]\n",
    "x_test_plus_one = x_test.reset_index(drop=True).loc[threshold_plus_one_mask,:]"
   ]
  },
  {
   "cell_type": "markdown",
   "metadata": {},
   "source": [
    "portfolio_value_change_by_threshold is total amount of portfolio value that must be given up to increase the threshold by .01."
   ]
  },
  {
   "cell_type": "code",
   "execution_count": 86,
   "metadata": {},
   "outputs": [],
   "source": [
    "hpo['threshold_2_digit'] = hpo['threshold'].astype('str').str[:4].astype('float')\n",
    "portfolio_value_by_threshold = hpo.groupby('threshold_2_digit')['portfolio_value'].mean()\n",
    "portfolio_value_change_by_threshold = portfolio_value_by_threshold.diff(periods=1)"
   ]
  },
  {
   "cell_type": "markdown",
   "metadata": {},
   "source": [
    "##### Step 3: Determine increase in number of construction loans"
   ]
  },
  {
   "cell_type": "markdown",
   "metadata": {},
   "source": [
    "Calculate the number of Construction sector loans that are added to the portfolio when the threshold is increased by 0.01."
   ]
  },
  {
   "cell_type": "code",
   "execution_count": 87,
   "metadata": {},
   "outputs": [],
   "source": [
    "construction_loan_increase = x_test_plus_one['NAICS_abbrev_23'].sum()"
   ]
  },
  {
   "cell_type": "markdown",
   "metadata": {},
   "source": [
    "##### Step 4: Determine cost of each construction loan"
   ]
  },
  {
   "cell_type": "code",
   "execution_count": 88,
   "metadata": {},
   "outputs": [
    {
     "name": "stdout",
     "output_type": "stream",
     "text": [
      "Decrease in Portfolio Value: -$1,640,192\n",
      "Increase in Number of Construction Loans: 26\n"
     ]
    }
   ],
   "source": [
    "threshold_plus_one = int(100*(optimal_threshold + minimum_threshold_adjustment))/100\n",
    "\n",
    "print('Decrease in Portfolio Value: ${:0,.0f}'.format(portfolio_value_change_by_threshold[threshold_plus_one]).replace('$-','-$'))\n",
    "print('Increase in Number of Construction Loans: {}'.format(construction_loan_increase))"
   ]
  },
  {
   "cell_type": "code",
   "execution_count": 89,
   "metadata": {},
   "outputs": [
    {
     "name": "stdout",
     "output_type": "stream",
     "text": [
      "Cost of each Additional Construction Loan: -$63,084\n"
     ]
    }
   ],
   "source": [
    "C = portfolio_value_change_by_threshold[threshold_plus_one]/construction_loan_increase\n",
    "\n",
    "print('Cost of each Additional Construction Loan: ${:0,.0f}'.format(C).replace('$-','-$'))"
   ]
  },
  {
   "cell_type": "markdown",
   "metadata": {},
   "source": [
    "##### Step 5: Compare cost to willingness-to-pay"
   ]
  },
  {
   "cell_type": "markdown",
   "metadata": {},
   "source": [
    "If P is greater than/equal to -C, then move the threshold"
   ]
  },
  {
   "cell_type": "code",
   "execution_count": 107,
   "metadata": {},
   "outputs": [
    {
     "name": "stdout",
     "output_type": "stream",
     "text": [
      "Is the lender's willingness-to-pay, which is equal to $75,000, greater than cost of an additional Construction loan, which is equal to $63,084?\n",
      "Yes, so the lender should increase the threshold.\n"
     ]
    }
   ],
   "source": [
    "print(\"Is the lender's willingness-to-pay, which is equal to ${:0,.0f}, greater than cost of an additional Construction loan, which is equal to ${:0,.0f}?\".format(P, -C))\n",
    "if (P > -C): \n",
    "    print('Yes, so the lender should increase the threshold.')\n",
    "else:\n",
    "    print('No, so the lender should not increase the threshold.')"
   ]
  },
  {
   "cell_type": "markdown",
   "metadata": {},
   "source": [
    "The lender would not stop with this one step. She would continue to ask if she should increase the threshold by another 0.01 and iterate through the above steps until she reaches a point at which she chooses not to increase the threshold.\n",
    "\n",
    "We assume that the lender always has access to the required capital if her willingness-to-pay is greater than the cost of an additional Construction sector loan. If desired, we can include a capital budget W for the lender as well. This change would modify the final step so that the lender checks both if B >= -C and if there is a sufficient amount of capital remaining in W to cover the sum of the principal of the additional loans."
   ]
  },
  {
   "cell_type": "markdown",
   "metadata": {},
   "source": [
    "## Other model metrics"
   ]
  },
  {
   "cell_type": "markdown",
   "metadata": {},
   "source": [
    "How do the Naive, Random Forest with 0.5 Threshold, and Random Forest with Optimal Threshold models compare according to the more traditional performance metrics, like accuracy, precision, and recall?"
   ]
  },
  {
   "cell_type": "code",
   "execution_count": 91,
   "metadata": {},
   "outputs": [],
   "source": [
    "naive_positives = naive_pred[y_test.reset_index(drop=True)==1]\n",
    "naive_negatives = naive_pred[y_test.reset_index(drop=True)==0]"
   ]
  },
  {
   "cell_type": "code",
   "execution_count": 92,
   "metadata": {},
   "outputs": [],
   "source": [
    "report = {}\n",
    "report['Naive Model'] = helpers.classification_report(naive_positives, naive_negatives, 0.5)\n",
    "report['Random Forest Model (0.5 Threshold)'] = helpers.classification_report(random_forest_positives, random_forest_negatives, 0.5)\n",
    "report['Random Forest Model (Optimal Threshold)'] = helpers.classification_report(random_forest_positives, random_forest_negatives, optimal_threshold)"
   ]
  },
  {
   "cell_type": "code",
   "execution_count": 93,
   "metadata": {},
   "outputs": [
    {
     "data": {
      "text/html": [
       "<div>\n",
       "<style scoped>\n",
       "    .dataframe tbody tr th:only-of-type {\n",
       "        vertical-align: middle;\n",
       "    }\n",
       "\n",
       "    .dataframe tbody tr th {\n",
       "        vertical-align: top;\n",
       "    }\n",
       "\n",
       "    .dataframe thead th {\n",
       "        text-align: right;\n",
       "    }\n",
       "</style>\n",
       "<table border=\"1\" class=\"dataframe\">\n",
       "  <thead>\n",
       "    <tr style=\"text-align: right;\">\n",
       "      <th></th>\n",
       "      <th>Accuracy</th>\n",
       "      <th>Precision_0</th>\n",
       "      <th>Precision_1</th>\n",
       "      <th>Recall_0</th>\n",
       "      <th>Recall_1</th>\n",
       "    </tr>\n",
       "  </thead>\n",
       "  <tbody>\n",
       "    <tr>\n",
       "      <th>Naive Model</th>\n",
       "      <td>0.822721</td>\n",
       "      <td>0.822721</td>\n",
       "      <td>NaN</td>\n",
       "      <td>1.000000</td>\n",
       "      <td>0.000000</td>\n",
       "    </tr>\n",
       "    <tr>\n",
       "      <th>Random Forest Model (0.5 Threshold)</th>\n",
       "      <td>0.935302</td>\n",
       "      <td>0.944246</td>\n",
       "      <td>0.883336</td>\n",
       "      <td>0.979177</td>\n",
       "      <td>0.731683</td>\n",
       "    </tr>\n",
       "    <tr>\n",
       "      <th>Random Forest Model (Optimal Threshold)</th>\n",
       "      <td>0.934975</td>\n",
       "      <td>0.960350</td>\n",
       "      <td>0.817026</td>\n",
       "      <td>0.960626</td>\n",
       "      <td>0.815937</td>\n",
       "    </tr>\n",
       "  </tbody>\n",
       "</table>\n",
       "</div>"
      ],
      "text/plain": [
       "                                         Accuracy  Precision_0  Precision_1  \\\n",
       "Naive Model                              0.822721  0.822721    NaN            \n",
       "Random Forest Model (0.5 Threshold)      0.935302  0.944246     0.883336      \n",
       "Random Forest Model (Optimal Threshold)  0.934975  0.960350     0.817026      \n",
       "\n",
       "                                         Recall_0  Recall_1  \n",
       "Naive Model                              1.000000  0.000000  \n",
       "Random Forest Model (0.5 Threshold)      0.979177  0.731683  \n",
       "Random Forest Model (Optimal Threshold)  0.960626  0.815937  "
      ]
     },
     "execution_count": 93,
     "metadata": {},
     "output_type": "execute_result"
    }
   ],
   "source": [
    "pd.DataFrame(report).T"
   ]
  },
  {
   "cell_type": "markdown",
   "metadata": {},
   "source": [
    "The above table reports the accuracy, precision, and recall for all three models. According to this table, which model is the best? That question can't be answered unless we know the benefits and costs to the lender associated with each cell of the confusion matrix, that is, the benefits associated with the true positives and true negatives and the costs associated with the false positives and the false negatives.\n",
    "\n",
    "It's clear from the above table that both Random Forest models strictly dominate the Naive model (assuming that the cost of a false positive isn't significantly larger than the cost of a false negative). Additionally there isn't a clear cut winner between the two Random Forest models. The answer depends upon the relative costs of misclassification to the lender. We know from the business context of the problem described in the introduction that there is a significantly higher cost associated with a false negative than with a false positive. Given that information, it is more valuable for the lender to minimize false negatives, and as such, Recall_1 or Precision_0 are the most salient metric. \n",
    "\n",
    "This discussion illustrates the fact that determining the so-called best model requires knowledge of the business use case that this ML model addresses, and the benefits and costs associated with each potential classification outcome; only then can we determine the metric that best captures what success means to the business. Additionally, precision and recall only include information about two of the four cells of the confusion matrix, but the lender cares about the net benefits associated with all four cells. Using these typical metrics ignores half of the outcomes that the lender cares about and also ignores the specific costs and benefits associated with all outcomes. Because of this, these metrics are lacking, and one should calculate a single problem-specific metric that incorporates the specific costs and benefits associated with all cells of the confusion matrix to determine the optimal threshold. In this post, this metric is portfolio value.\n",
    "\n",
    "This optimization approach can be used more generally to test whether a threshold is optimal for the problem and data at hand.  "
   ]
  },
  {
   "cell_type": "markdown",
   "metadata": {},
   "source": [
    "## Conclusion<a id='conclusion'></a>"
   ]
  },
  {
   "cell_type": "markdown",
   "metadata": {},
   "source": [
    "This post showed how to find the optimal threshold in a binary classification problem. Specifically, we describe how to use Amazon SageMaker automatic model tuning to determine the classification threshold that maximizes the portfolio value of a lender when choosing which subset of borrowers to extend credit to. More generally, the method of choosing an optimal threshold we describe can be applied to situations in which you need to choose multiple thresholds. The main modification needed is to incorporate multiple thresholds into the problem-specific, threshold-based metric. After doing that, you could use Amazon SageMaker automatic model tuning to find a vector of thresholds, as opposed to a single threshold, that maximizes your metric.\n",
    "\n",
    "The threshold determination approach we describe has several substantial advantages. First, it makes the logic and rationale used in determining a threshold explicit. Second, it requires the business to clearly state its cost matrix, based on the specific actions to take on the model predictions and their associated benefits and costs. Making the logic and cost structure explicitly can drive challenging discussions in the business, and force differing implicit decisions and valuations onto the table for open discussion and agreement.\n",
    "\n",
    "Lastly, this approach can also potentially be used to address the issue of imbalanced data. The issue with imbalanced data is often not that one target class has a much larger representation in the data than another target class, it’s that the misclassification costs (that is, the cost of a false positive versus a false negative), are dramatically different from one another. Instead of using sampling to balance the training data, you can clearly define the misclassification costs in the problem-specific metric, and use that metric to find an optimal threshold. This approach makes the issue less a technical one of using a trick of modifying the distribution of data to more of a business one of clearly specifying the cost structure of a problem. That may address the true issue of imbalanced data more directly, which is the issue of imbalanced misclassification costs."
   ]
  },
  {
   "cell_type": "markdown",
   "metadata": {},
   "source": [
    "For any of your business use cases that requires setting a classification threshold, consider using Amazon SageMaker Automatic Model Tuning functionality and the method described here. To get started, open the [Amazon SageMaker console](https://console.aws.amazon.com/sagemaker) and the [code](https://github.com/aws-samples/amazon-sagemaker-hyperparameter-tuning-portfolio-optimization/tree/master/hyperparameter-tuning-portfolio-optimization) used to generate the results in this post. If you have thoughts on business use cases this method can be applied to or any questions, please leave them in the comments.\n",
    "\n",
    "For more information on training models that have asymmetric classification costs, see this [Training models with unequal economic error costs using Amazon SageMaker.](https://aws.amazon.com/blogs/machine-learning/training-models-with-unequal-economic-error-costs-using-amazon-sagemaker/). "
   ]
  },
  {
   "cell_type": "markdown",
   "metadata": {},
   "source": [
    "Copyright 2019 Amazon.com, Inc. or its affiliates. All Rights Reserved.  \n",
    "SPDX-License-Identifier: MIT-0"
   ]
  }
 ],
 "metadata": {
  "kernelspec": {
   "display_name": "conda_python3",
   "language": "python",
   "name": "conda_python3"
  },
  "language_info": {
   "codemirror_mode": {
    "name": "ipython",
    "version": 3
   },
   "file_extension": ".py",
   "mimetype": "text/x-python",
   "name": "python",
   "nbconvert_exporter": "python",
   "pygments_lexer": "ipython3",
   "version": "3.6.5"
  }
 },
 "nbformat": 4,
 "nbformat_minor": 4
}
